{
 "cells": [
  {
   "cell_type": "markdown",
   "metadata": {},
   "source": [
    "# Simple LU"
   ]
  },
  {
   "cell_type": "code",
   "execution_count": 1,
   "metadata": {},
   "outputs": [],
   "source": [
    "def partial_pivoting_lu(A):\n",
    "    n = len(A)\n",
    "    P = np.eye(n)  # начальная перестановочная матрица\n",
    "    L = np.eye(n)  # начальная нижняя треугольная матрица\n",
    "    U = np.copy(A)  # начальная верхняя треугольная матрица\n",
    "\n",
    "    for j in range(n - 1):\n",
    "        # Шаг 1: Находим максимальный элемент в столбце под главной диагональю\n",
    "        pivot_row = np.argmax(np.abs(U[j:, j])) + j\n",
    "\n",
    "        # Меняем строки в U, L и P соответственно\n",
    "        U[[j, pivot_row], j:] = U[[pivot_row, j], j:]\n",
    "        L[[j, pivot_row], :j] = L[[pivot_row, j], :j]\n",
    "        P[[j, pivot_row], :] = P[[pivot_row, j], :]\n",
    "\n",
    "        # Шаг 2: Обновляем матрицы L и U\n",
    "        L[j + 1:, j] = U[j + 1:, j] / U[j, j]\n",
    "        U[j + 1:, j:] -= np.outer(L[j + 1:, j], U[j, j:])\n",
    "\n",
    "    return P, L, U"
   ]
  },
  {
   "cell_type": "markdown",
   "metadata": {},
   "source": [
    "# Nested Dissection"
   ]
  },
  {
   "cell_type": "markdown",
   "metadata": {},
   "source": [
    "## Без ускорения "
   ]
  },
  {
   "cell_type": "code",
   "execution_count": 60,
   "metadata": {
    "scrolled": true
   },
   "outputs": [],
   "source": [
    "import numpy as np\n",
    "import scipy.sparse as spsp\n",
    "import matplotlib.pyplot as plt\n",
    "import time\n",
    "\n",
    "def custom_lu_decomposition_iter(L, U, i, j, n, m):\n",
    "    # Итерация для LU-разложения\n",
    "    for k in range(j, j + m):\n",
    "        a = U.getrow(k).getcol(k).toarray()[0][0]\n",
    "        for row in range(max(i, k + 1), i + n):\n",
    "            b = U.getrow(row).getcol(k).toarray()[0][0]\n",
    "            if b != 0:\n",
    "                L.append((row, k, b / a))\n",
    "                U[row] = U.getrow(row) - b * (U.getrow(k) / a)\n",
    "\n",
    "def recursive_partitioning(P, L, U, i, n, separate_permutation):\n",
    "    # Рекурсивное разбиение и применение LU-разложения\n",
    "    if n < 10:  # Экстремальный случай\n",
    "        custom_lu_decomposition_iter(L, U, i, i, n, n)\n",
    "        return\n",
    "\n",
    "    P_local, a, b, g = separate_permutation(U[i:(i+n), i:(i+n)])  # Получаем перестановку для блок-стрелочной формы\n",
    "    P_i = np.arange(0, U.shape[0])  # Перестановка в i-й итерации\n",
    "    P_i[i:(i+n)] = P_local + i\n",
    "    U[:] = U[P_i, :][:, P_i]  # Применяем перестановку к U (в place)\n",
    "    P[:] = P[P_i]\n",
    "\n",
    "    if max(a, b, g) == n:  # Случай бесконечной рекурсии (когда следующее деление невозможно)\n",
    "        custom_lu_decomposition_iter(L, U, i, i, n, n)\n",
    "    else:\n",
    "        recursive_partitioning(P, L, U, i, a, separate_permutation)  # (alpha, alpha)\n",
    "        custom_lu_decomposition_iter(L, U, i + a + b, i, g, a)  # LU над частью (gamma,alpha)\n",
    "        recursive_partitioning(P, L, U, i + a, b, separate_permutation)  # (beta, beta)\n",
    "        custom_lu_decomposition_iter(L, U, i + a + b, i + a, g, b)  # LU над частью (gamma,beta)\n",
    "        recursive_partitioning(P, L, U, i + a + b, g, separate_permutation)  # (gamma, gamma)\n",
    "\n",
    "def lu_decomposition(A, separate_permutation, copy=True):\n",
    "    # LU-разложение матрицы\n",
    "    P = np.arange(0, A.shape[0])  # Перестановка по умолчанию\n",
    "    L = [(i, i, 1) for i in range(0, A.shape[0])]  # Заполняем диагональ единицами\n",
    "\n",
    "    if copy:\n",
    "        U = A.copy()\n",
    "    else:\n",
    "        U = A\n",
    "\n",
    "    # Изменения P, L, U вместе\n",
    "    recursive_partitioning(P, L, U, 0, A.shape[0], separate_permutation)\n",
    "\n",
    "    P = np.argsort(P)  # Применяем транспозицию\n",
    "\n",
    "    # Создаем разреженную матрицу из списка COO\n",
    "    row = [L[i][0] for i in range(len(L))]\n",
    "    col = [L[i][1] for i in range(len(L))]\n",
    "    data = [L[i][2] for i in range(len(L))]\n",
    "    L = spsp.coo_matrix((data, (row, col)))\n",
    "\n",
    "    return P, L, U\n",
    "\n",
    "def generate_sparse_matrix(n, density=0.2):\n",
    "    # Генерация разреженной матрицы размера n x n с указанной плотностью\n",
    "    return spsp.rand(n, n, density=density, format='csr')\n",
    "\n",
    "def find_separator_permutation(mat):\n",
    "    # Находит собственный вектор Фидлера\n",
    "    Laplacian = spsp.csgraph.laplacian(mat, dtype=np.float32)\n",
    "    eigval, eigvec = spsp.linalg.eigsh(Laplacian, k=2, which=\"SM\")\n",
    "    colors = np.sign(eigvec[:, 1])\n",
    "\n",
    "    # Получаем 3 множества, где gamma - разделитель\n",
    "    if eigval[1] < 1e-8:  # Проверка на неподключенный граф\n",
    "        alpha = spsp.csgraph.depth_first_order(Laplacian, 0, return_predecessors=False)\n",
    "        beta = np.setdiff1d(np.arange(0, len(colors)), alpha)\n",
    "        gamma = np.array([])\n",
    "    else:\n",
    "        gamma = set()\n",
    "        for k in range(0, len(Laplacian.row)):\n",
    "            i = Laplacian.row[k]\n",
    "            j = Laplacian.col[k]\n",
    "            if j > i and colors[i] != colors[j]:\n",
    "                gamma.add(i)\n",
    "                gamma.add(j)\n",
    "        gamma = np.array(list(gamma))\n",
    "        beta = np.setdiff1d(np.where(colors > 0), gamma)\n",
    "        alpha = np.setdiff1d(np.where(colors < 0), gamma)\n",
    "\n",
    "    # Создаем перестановку на основе множеств\n",
    "    a, b, g = len(alpha), len(beta), len(gamma)\n",
    "    start = 0\n",
    "    P = np.zeros(len(colors), dtype=np.int32)\n",
    "    if a > 0: P[alpha] = np.arange(start, start + a)\n",
    "    start += a\n",
    "    if b > 0: P[beta] = np.arange(start, start + b)\n",
    "    start += b\n",
    "    if g > 0: P[gamma] = np.arange(start, start + g)\n",
    "    P = P.argsort()\n",
    "    return P, a, b, g"
   ]
  },
  {
   "cell_type": "code",
   "execution_count": 65,
   "metadata": {},
   "outputs": [
    {
     "name": "stderr",
     "output_type": "stream",
     "text": [
      "<ipython-input-60-81e3590e962d>:13: RuntimeWarning: divide by zero encountered in double_scalars\n",
      "  L.append((row, k, b / a))\n",
      "/Users/akimkalenuk/opt/anaconda3/lib/python3.8/site-packages/scipy/sparse/_base.py:651: RuntimeWarning: divide by zero encountered in double_scalars\n",
      "  return self.astype(np.float_)._mul_scalar(1./other)\n",
      "/Users/akimkalenuk/opt/anaconda3/lib/python3.8/site-packages/scipy/sparse/_data.py:124: RuntimeWarning: invalid value encountered in multiply\n",
      "  return self._with_data(self.data * other)\n"
     ]
    },
    {
     "name": "stdout",
     "output_type": "stream",
     "text": [
      "Время разложения [с] = 0.6882679462432861\n",
      "Norm(A): 3.8547645237739117\n",
      "Norm(LU): nan\n",
      "Norm(P(LU)P - A): nan\n"
     ]
    },
    {
     "data": {
      "image/png": "[encoded data removed]",
      "text/plain": [
       "<Figure size 360x360 with 4 Axes>"
      ]
     },
     "metadata": {
      "needs_background": "light"
     },
     "output_type": "display_data"
    }
   ],
   "source": [
    "# Пример использования\n",
    "if __name__ == '__main__':\n",
    "    # Генерация разреженной матрицы\n",
    "    n = 100\n",
    "    density = 0.005\n",
    "    A = generate_sparse_matrix(n, density)\n",
    "    \n",
    "    # Получение LU-разложения\n",
    "    start_time = time.time()\n",
    "    P, L, U = lu_decomposition(A, find_separator_permutation)\n",
    "    end_time = time.time()\n",
    "    print(\"Время разложения [с] =\", end_time - start_time)\n",
    "    \n",
    "    # Проверка точности разложения\n",
    "    LU = L.dot(U)\n",
    "    norm_A = spsp.linalg.norm(A, ord='fro')\n",
    "    norm_LU = spsp.linalg.norm(LU, ord='fro')\n",
    "    norm_diff = spsp.linalg.norm(LU - A, ord='fro')\n",
    "\n",
    "    print(\"Norm(A):\", norm_A)\n",
    "    print(\"Norm(LU):\", norm_LU)\n",
    "    print(\"Norm(P(LU)P - A):\", norm_diff)\n",
    "\n",
    "    # Визуализация разреженных матриц\n",
    "    data = [A, LU, L, U]\n",
    "    fig, axs = plt.subplots(1, len(data), figsize=(5, 5))\n",
    "    for i in range(len(data)):\n",
    "        axs[i].spy(data[i], aspect='equal', marker='.', markersize=2, precision=1e-5)\n",
    "    plt.show()"
   ]
  },
  {
   "cell_type": "markdown",
   "metadata": {},
   "source": [
    "## C ускорением"
   ]
  },
  {
   "cell_type": "code",
   "execution_count": 4,
   "metadata": {},
   "outputs": [
    {
     "ename": "TypingError",
     "evalue": "Failed in nopython mode pipeline (step: nopython frontend)\n\u001b[1m\u001b[1mnon-precise type pyobject\u001b[0m\n\u001b[0m\u001b[1mDuring: typing of argument at <ipython-input-4-474e13f97749> (41)\u001b[0m\n\u001b[1m\nFile \"<ipython-input-4-474e13f97749>\", line 41:\u001b[0m\n\u001b[1mdef recursive_partitioning(P, L, U, i, n, separate_permutation):\n    <source elided>\n\n\u001b[1m@jit(nopython=True)\n\u001b[0m\u001b[1m^\u001b[0m\u001b[0m \n\nThis error may have been caused by the following argument(s):\n- argument 0: \u001b[1mCannot determine Numba type of <class 'scipy.sparse._csr.csr_matrix'>\u001b[0m\n",
     "output_type": "error",
     "traceback": [
      "\u001b[0;31m---------------------------------------------------------------------------\u001b[0m",
      "\u001b[0;31mTypingError\u001b[0m                               Traceback (most recent call last)",
      "\u001b[0;32m<ipython-input-4-474e13f97749>\u001b[0m in \u001b[0;36m<module>\u001b[0;34m\u001b[0m\n\u001b[1;32m     97\u001b[0m \u001b[0;34m\u001b[0m\u001b[0m\n\u001b[1;32m     98\u001b[0m     \u001b[0mstart_time\u001b[0m \u001b[0;34m=\u001b[0m \u001b[0mtime\u001b[0m\u001b[0;34m.\u001b[0m\u001b[0mtime\u001b[0m\u001b[0;34m(\u001b[0m\u001b[0;34m)\u001b[0m\u001b[0;34m\u001b[0m\u001b[0;34m\u001b[0m\u001b[0m\n\u001b[0;32m---> 99\u001b[0;31m     \u001b[0mP\u001b[0m\u001b[0;34m,\u001b[0m \u001b[0mL\u001b[0m\u001b[0;34m,\u001b[0m \u001b[0mU\u001b[0m \u001b[0;34m=\u001b[0m \u001b[0mlu_decomposition\u001b[0m\u001b[0;34m(\u001b[0m\u001b[0mA\u001b[0m\u001b[0;34m,\u001b[0m \u001b[0mfind_separator_permutation\u001b[0m\u001b[0;34m)\u001b[0m\u001b[0;34m\u001b[0m\u001b[0;34m\u001b[0m\u001b[0m\n\u001b[0m\u001b[1;32m    100\u001b[0m     \u001b[0mend_time\u001b[0m \u001b[0;34m=\u001b[0m \u001b[0mtime\u001b[0m\u001b[0;34m.\u001b[0m\u001b[0mtime\u001b[0m\u001b[0;34m(\u001b[0m\u001b[0;34m)\u001b[0m\u001b[0;34m\u001b[0m\u001b[0;34m\u001b[0m\u001b[0m\n\u001b[1;32m    101\u001b[0m     \u001b[0mprint\u001b[0m\u001b[0;34m(\u001b[0m\u001b[0;34m\"Time for decomposition [s] =\"\u001b[0m\u001b[0;34m,\u001b[0m \u001b[0mend_time\u001b[0m \u001b[0;34m-\u001b[0m \u001b[0mstart_time\u001b[0m\u001b[0;34m)\u001b[0m\u001b[0;34m\u001b[0m\u001b[0;34m\u001b[0m\u001b[0m\n",
      "\u001b[0;32m~/opt/anaconda3/lib/python3.8/site-packages/numba/core/dispatcher.py\u001b[0m in \u001b[0;36m_compile_for_args\u001b[0;34m(self, *args, **kws)\u001b[0m\n\u001b[1;32m    466\u001b[0m                 \u001b[0me\u001b[0m\u001b[0;34m.\u001b[0m\u001b[0mpatch_message\u001b[0m\u001b[0;34m(\u001b[0m\u001b[0mmsg\u001b[0m\u001b[0;34m)\u001b[0m\u001b[0;34m\u001b[0m\u001b[0;34m\u001b[0m\u001b[0m\n\u001b[1;32m    467\u001b[0m \u001b[0;34m\u001b[0m\u001b[0m\n\u001b[0;32m--> 468\u001b[0;31m             \u001b[0merror_rewrite\u001b[0m\u001b[0;34m(\u001b[0m\u001b[0me\u001b[0m\u001b[0;34m,\u001b[0m \u001b[0;34m'typing'\u001b[0m\u001b[0;34m)\u001b[0m\u001b[0;34m\u001b[0m\u001b[0;34m\u001b[0m\u001b[0m\n\u001b[0m\u001b[1;32m    469\u001b[0m         \u001b[0;32mexcept\u001b[0m \u001b[0merrors\u001b[0m\u001b[0;34m.\u001b[0m\u001b[0mUnsupportedError\u001b[0m \u001b[0;32mas\u001b[0m \u001b[0me\u001b[0m\u001b[0;34m:\u001b[0m\u001b[0;34m\u001b[0m\u001b[0;34m\u001b[0m\u001b[0m\n\u001b[1;32m    470\u001b[0m             \u001b[0;31m# Something unsupported is present in the user code, add help info\u001b[0m\u001b[0;34m\u001b[0m\u001b[0;34m\u001b[0m\u001b[0;34m\u001b[0m\u001b[0m\n",
      "\u001b[0;32m~/opt/anaconda3/lib/python3.8/site-packages/numba/core/dispatcher.py\u001b[0m in \u001b[0;36merror_rewrite\u001b[0;34m(e, issue_type)\u001b[0m\n\u001b[1;32m    407\u001b[0m                 \u001b[0;32mraise\u001b[0m \u001b[0me\u001b[0m\u001b[0;34m\u001b[0m\u001b[0;34m\u001b[0m\u001b[0m\n\u001b[1;32m    408\u001b[0m             \u001b[0;32melse\u001b[0m\u001b[0;34m:\u001b[0m\u001b[0;34m\u001b[0m\u001b[0;34m\u001b[0m\u001b[0m\n\u001b[0;32m--> 409\u001b[0;31m                 \u001b[0;32mraise\u001b[0m \u001b[0me\u001b[0m\u001b[0;34m.\u001b[0m\u001b[0mwith_traceback\u001b[0m\u001b[0;34m(\u001b[0m\u001b[0;32mNone\u001b[0m\u001b[0;34m)\u001b[0m\u001b[0;34m\u001b[0m\u001b[0;34m\u001b[0m\u001b[0m\n\u001b[0m\u001b[1;32m    410\u001b[0m \u001b[0;34m\u001b[0m\u001b[0m\n\u001b[1;32m    411\u001b[0m         \u001b[0margtypes\u001b[0m \u001b[0;34m=\u001b[0m \u001b[0;34m[\u001b[0m\u001b[0;34m]\u001b[0m\u001b[0;34m\u001b[0m\u001b[0;34m\u001b[0m\u001b[0m\n",
      "\u001b[0;31mTypingError\u001b[0m: Failed in nopython mode pipeline (step: nopython frontend)\n\u001b[1m\u001b[1mnon-precise type pyobject\u001b[0m\n\u001b[0m\u001b[1mDuring: typing of argument at <ipython-input-4-474e13f97749> (41)\u001b[0m\n\u001b[1m\nFile \"<ipython-input-4-474e13f97749>\", line 41:\u001b[0m\n\u001b[1mdef recursive_partitioning(P, L, U, i, n, separate_permutation):\n    <source elided>\n\n\u001b[1m@jit(nopython=True)\n\u001b[0m\u001b[1m^\u001b[0m\u001b[0m \n\nThis error may have been caused by the following argument(s):\n- argument 0: \u001b[1mCannot determine Numba type of <class 'scipy.sparse._csr.csr_matrix'>\u001b[0m\n"
     ]
    }
   ],
   "source": [
    "import numpy as np\n",
    "import scipy.sparse as spsp\n",
    "import matplotlib.pyplot as plt\n",
    "import time\n",
    "from numba import jit\n",
    "\n",
    "@jit(nopython=True)\n",
    "def custom_lu_decomposition_iter(L, U, i, j, n, m):\n",
    "    for k in range(j, j + m):\n",
    "        a = U[k, k]\n",
    "        for row in range(max(i, k + 1), i + n):\n",
    "            b = U[row, k]\n",
    "            if b != 0:\n",
    "                L.append((row, k, b / (a + 1e-16)))\n",
    "                U[row, :] -= b * (U[k, :] / (a + 1e-16))\n",
    "\n",
    "def generate_sparse_matrix(n, density=0.2):\n",
    "    return spsp.rand(n, n, density=density, format='csr')\n",
    "\n",
    "@jit(nopython=True)\n",
    "def recursive_partitioning(P, L, U, i, n, separate_permutation):\n",
    "    if n < 10:\n",
    "        custom_lu_decomposition_iter(L, U, i, i, n, n)\n",
    "        return\n",
    "\n",
    "    P_local, a, b, g = separate_permutation(U[i:(i+n), i:(i+n)])\n",
    "    P_i = np.arange(0, U.shape[0])\n",
    "    P_i[i:(i+n)] = P_local + i\n",
    "    U[:] = U[P_i, :][:, P_i]\n",
    "    P[:] = P[P_i]\n",
    "\n",
    "    if max(a, b, g) == n:\n",
    "        custom_lu_decomposition_iter(L, U, i, i, n, n)\n",
    "    else:\n",
    "        recursive_partitioning(P, L, U, i, a, separate_permutation)\n",
    "        custom_lu_decomposition_iter(L, U, i + a + b, i, g, a)\n",
    "        recursive_partitioning(P, L, U, i + a, b, separate_permutation)\n",
    "        custom_lu_decomposition_iter(L, U, i + a + b, i + a, g, b)\n",
    "        recursive_partitioning(P, L, U, i + a + b, g, separate_permutation)\n",
    "\n",
    "@jit(nopython=True)\n",
    "def lu_decomposition(A, separate_permutation, copy=True):\n",
    "    P = np.arange(0, A.shape[0])\n",
    "    L = [(i, i, 1) for i in range(0, A.shape[0])]\n",
    "\n",
    "    if copy:\n",
    "        U = A.copy()\n",
    "    else:\n",
    "        U = A\n",
    "\n",
    "    recursive_partitioning(P, L, U, 0, A.shape[0], separate_permutation)\n",
    "\n",
    "    P = np.argsort(P)\n",
    "    \n",
    "    row = [L[i][0] for i in range(len(L))]\n",
    "    col = [L[i][1] for i in range(len(L))]\n",
    "    data = [L[i][2] for i in range(len(L))]\n",
    "    L = spsp.coo_matrix((data, (row, col)))\n",
    "\n",
    "    return P, L, U\n",
    "\n",
    "@jit(nopython=True)\n",
    "def find_separator_permutation(mat):\n",
    "    Laplacian = spsp.csgraph.laplacian(mat, dtype=np.float32)\n",
    "    eigval, eigvec = spsp.linalg.eigsh(Laplacian, k=2, which=\"SM\")\n",
    "    colors = np.sign(eigvec[:, 1])\n",
    "\n",
    "    if eigval[1] < 1e-8:\n",
    "        alpha = spsp.csgraph.depth_first_order(Laplacian, 0, return_predecessors=False)\n",
    "        beta = np.setdiff1d(np.arange(0, len(colors)), alpha)\n",
    "        gamma = np.array([])\n",
    "    else:\n",
    "        gamma = set()\n",
    "        for k, (i, j) in enumerate(zip(Laplacian.row, Laplacian.col)):\n",
    "            if j > i and colors[i] != colors[j]:\n",
    "                gamma.add(i)\n",
    "                gamma.add(j)\n",
    "        gamma = np.array(list(gamma))\n",
    "        beta = np.setdiff1d(np.where(colors > 0), gamma)\n",
    "        alpha = np.setdiff1d(np.where(colors < 0), gamma)\n",
    "\n",
    "    a, b, g = len(alpha), len(beta), len(gamma)\n",
    "    start = 0\n",
    "    P = np.zeros(len(colors), dtype=np.int32)\n",
    "    if a > 0: P[alpha] = np.arange(start, start + a)\n",
    "    start += a\n",
    "    if b > 0: P[beta] = np.arange(start, start + b)\n",
    "    start += b\n",
    "    if g > 0: P[gamma] = np.arange(start, start + g)\n",
    "    P = P.argsort()\n",
    "    return P, a, b, g\n",
    "\n",
    "if __name__ == '__main__':\n",
    "    n = 1000\n",
    "    density = 0.9\n",
    "    A = generate_sparse_matrix(n, density)\n",
    "    \n",
    "    start_time = time.time()\n",
    "    P, L, U = lu_decomposition(A, find_separator_permutation)\n",
    "    end_time = time.time()\n",
    "    print(\"Time for decomposition [s] =\", end_time - start_time)\n",
    "    \n",
    "    LU = L.dot(U)\n",
    "    norm_A = spsp.linalg.norm(A, ord='fro')\n",
    "    norm_LU = spsp.linalg.norm(LU, ord='fro')\n",
    "    norm_diff = spsp.linalg.norm(LU - A, ord='fro')\n",
    "\n",
    "    print(\"Norm(A):\", norm_A)\n",
    "    print(\"Norm(LU):\", norm_LU)\n",
    "    print(\"Norm(P(LU)P - A):\", norm_diff)\n",
    "\n",
    "    data = [A, LU, L, U]\n",
    "    fig, axs = plt.subplots(1, len(data))\n",
    "    for i in range(len(data)):\n",
    "        axs[i].spy(data[i], aspect='equal', marker='.', markersize=2, precision=1e-5)\n",
    "    plt.show()"
   ]
  },
  {
   "cell_type": "code",
   "execution_count": 143,
   "metadata": {},
   "outputs": [
    {
     "name": "stdout",
     "output_type": "stream",
     "text": [
      "CPU times: user 3.9 s, sys: 59.8 ms, total: 3.96 s\n",
      "Wall time: 4.25 s\n"
     ]
    }
   ],
   "source": [
    "%%time\n",
    "P, L, U = lu_decomposition(A, find_separator_permutation)"
   ]
  },
  {
   "cell_type": "code",
   "execution_count": 152,
   "metadata": {
    "scrolled": true
   },
   "outputs": [
    {
     "name": "stdout",
     "output_type": "stream",
     "text": [
      "CPU times: user 821 ms, sys: 106 ms, total: 926 ms\n",
      "Wall time: 942 ms\n"
     ]
    },
    {
     "data": {
      "text/plain": [
       "(array([[0., 0., 0., ..., 0., 0., 0.],\n",
       "        [0., 0., 0., ..., 0., 0., 0.],\n",
       "        [0., 0., 0., ..., 0., 0., 0.],\n",
       "        ...,\n",
       "        [0., 0., 0., ..., 0., 0., 0.],\n",
       "        [0., 0., 0., ..., 0., 0., 0.],\n",
       "        [0., 0., 0., ..., 0., 0., 0.]]),\n",
       " array([[ 1.        ,  0.        ,  0.        , ...,  0.        ,\n",
       "          0.        ,  0.        ],\n",
       "        [ 0.        ,  1.        ,  0.        , ...,  0.        ,\n",
       "          0.        ,  0.        ],\n",
       "        [ 0.99277936, -0.85059862,  1.        , ...,  0.        ,\n",
       "          0.        ,  0.        ],\n",
       "        ...,\n",
       "        [ 0.90970351,  0.04428585, -0.01793512, ...,  1.        ,\n",
       "          0.        ,  0.        ],\n",
       "        [ 0.73960683, -0.27439303,  0.41972144, ..., -0.12957754,\n",
       "          1.        ,  0.        ],\n",
       "        [ 0.62067006,  0.26239085,  0.3966598 , ..., -0.34958563,\n",
       "         -0.02892685,  1.        ]]),\n",
       " array([[ 0.99962389,  0.95868826,  0.10765722, ...,  0.06838417,\n",
       "          0.88745744,  0.65796604],\n",
       "        [ 0.        ,  0.99922646,  0.13109897, ...,  0.        ,\n",
       "          0.        ,  0.5316942 ],\n",
       "        [ 0.        ,  0.        ,  0.99361848, ...,  0.43891591,\n",
       "         -0.53141498, -0.20095674],\n",
       "        ...,\n",
       "        [ 0.        ,  0.        ,  0.        , ...,  6.38461557,\n",
       "         -1.45258375,  1.33137824],\n",
       "        [ 0.        ,  0.        ,  0.        , ...,  0.        ,\n",
       "          5.85483233,  2.260945  ],\n",
       "        [ 0.        ,  0.        ,  0.        , ...,  0.        ,\n",
       "          0.        , -7.27941463]]))"
      ]
     },
     "execution_count": 152,
     "metadata": {},
     "output_type": "execute_result"
    }
   ],
   "source": [
    "%%time\n",
    "partial_pivoting_lu(A.todense())"
   ]
  },
  {
   "cell_type": "markdown",
   "metadata": {},
   "source": [
    "# Сравним библиотечные реализации"
   ]
  },
  {
   "cell_type": "code",
   "execution_count": 101,
   "metadata": {},
   "outputs": [],
   "source": [
    "import numpy as np\n",
    "from scipy.sparse import csr_matrix\n",
    "import scipy.sparse as spsp\n",
    "from scipy.sparse.linalg import splu, spilu\n",
    "from scipy.linalg import lu\n",
    "import timeit\n",
    "from tqdm import tqdm\n",
    "import matplotlib.pyplot as plt\n",
    "\n",
    "def generate_sparse_matrix(n, density=0.2):\n",
    "    return spsp.rand(n, n, density=density, format='csr')\n",
    "\n",
    "def measure_time_and_accuracy(matrix_size, density):\n",
    "    # Генерация разреженной матрицы\n",
    "    A = generate_sparse_matrix(matrix_size, density)\n",
    "\n",
    "    # LU-разложение с использованием различных методов\n",
    "    lu_time = timeit.timeit(lambda: lu(A.todense()), number=1)\n",
    "    splu_time = timeit.timeit(lambda: splu(A), number=1)\n",
    "    spilu_time = timeit.timeit(lambda: spilu(A), number=1)\n",
    "\n",
    "    # Расчет точности LU-разложения\n",
    "    P, L, U = lu(A.todense())\n",
    "    LU = L.dot(U)\n",
    "    \n",
    "    lu_norm_diff = np.linalg.norm(LU - A.todense(), ord='fro')\n",
    "    \n",
    "    B = splu(A)\n",
    "    L = csr_matrix.todense(B.L)\n",
    "    U = csr_matrix.todense(B.U)\n",
    "    LU = L.dot(U)\n",
    "    \n",
    "    splu_norm_diff = np.linalg.norm(LU - A, ord='fro')\n",
    "    \n",
    "    B = spilu(A)\n",
    "    L = csr_matrix.todense(B.L)\n",
    "    U = csr_matrix.todense(B.U)\n",
    "    LU = L.dot(U)\n",
    "    \n",
    "    spilu_norm_diff = np.linalg.norm(LU - A, ord='fro')\n",
    "    \n",
    "    return lu_time, splu_time, spilu_time, lu_norm_diff, splu_norm_diff, spilu_norm_diff\n",
    "\n",
    "def plot_results(matrix_sizes, densities):\n",
    "    lu_times = []\n",
    "    splu_times = []\n",
    "    spilu_times = []\n",
    "    lu_accuracy_diffs = []\n",
    "    splu_accuracy_diffs = []\n",
    "    spilu_accuracy_diffs = []\n",
    "\n",
    "    for size in tqdm(matrix_sizes):\n",
    "        for density in tqdm(densities):\n",
    "            lu_time, splu_time, spilu_time, lu_norm_diff, splu_norm_diff, spilu_norm_diff = measure_time_and_accuracy(size, \n",
    "                                                                                                                      density)\n",
    "\n",
    "            lu_times.append(lu_time)\n",
    "            splu_times.append(splu_time)\n",
    "            spilu_times.append(spilu_time)\n",
    "            \n",
    "            lu_accuracy_diffs.append(lu_norm_diff)\n",
    "            splu_accuracy_diffs.append(splu_norm_diff)\n",
    "            spilu_accuracy_diffs.append(spilu_norm_diff)\n",
    "\n",
    "    # Построение графиков\n",
    "    plt.figure(figsize=(12, 8))\n",
    "\n",
    "    plt.subplot(2, 2, 1)\n",
    "    plt.plot(lu_times, label='lu')\n",
    "    plt.plot(splu_times, label='splu')\n",
    "    plt.plot(spilu_times, label='spilu')\n",
    "    plt.title('Execution Time Comparison')\n",
    "    plt.xlabel('Configuration Index')\n",
    "    plt.ylabel('Time (seconds)')\n",
    "    plt.legend()\n",
    "\n",
    "    plt.subplot(2, 2, 2)\n",
    "    plt.plot(lu_accuracy_diffs, label='lu')\n",
    "    plt.plot(splu_accuracy_diffs, label='splu')\n",
    "    plt.plot(spilu_accuracy_diffs, label='spilu')\n",
    "    plt.title('LU Decomposition Accuracy')\n",
    "    plt.xlabel('Configuration Index')\n",
    "    plt.ylabel('Norm Difference')\n",
    "    \n",
    "    plt.tight_layout()\n",
    "    plt.show()\n",
    "\n",
    "# # Размеры и разреженности матриц\n",
    "# matrix_sizes = range(10000, 100000, 10000)\n",
    "# densities = [0.005, 0.01, 0.1]\n",
    "\n",
    "# # Построение и отображение результатов\n",
    "# plot_results(matrix_sizes, densities)"
   ]
  },
  {
   "cell_type": "code",
   "execution_count": 28,
   "metadata": {},
   "outputs": [
    {
     "data": {
      "image/png": "[encoded data removed]",
      "text/plain": [
       "<Figure size 432x288 with 1 Axes>"
      ]
     },
     "metadata": {
      "needs_background": "light"
     },
     "output_type": "display_data"
    }
   ],
   "source": [
    "n = 100\n",
    "A = spsp.random(n, n, 0.005)\n",
    "plt.spy(A)\n",
    "plt.show()"
   ]
  },
  {
   "cell_type": "code",
   "execution_count": 29,
   "metadata": {},
   "outputs": [
    {
     "name": "stderr",
     "output_type": "stream",
     "text": [
      "<ipython-input-1-a2f61e89b6af>:17: RuntimeWarning: invalid value encountered in divide\n",
      "  L[j + 1:, j] = U[j + 1:, j] / U[j, j]\n"
     ]
    }
   ],
   "source": [
    "P, L, U = partial_pivoting_lu(A.todense())"
   ]
  },
  {
   "cell_type": "code",
   "execution_count": 30,
   "metadata": {},
   "outputs": [
    {
     "data": {
      "image/png": "[encoded data removed]",
      "text/plain": [
       "<Figure size 432x288 with 1 Axes>"
      ]
     },
     "metadata": {
      "needs_background": "light"
     },
     "output_type": "display_data"
    }
   ],
   "source": [
    "plt.spy(L)\n",
    "plt.show()"
   ]
  },
  {
   "cell_type": "code",
   "execution_count": 31,
   "metadata": {},
   "outputs": [
    {
     "data": {
      "image/png": "[encoded data removed]",
      "text/plain": [
       "<Figure size 432x288 with 1 Axes>"
      ]
     },
     "metadata": {
      "needs_background": "light"
     },
     "output_type": "display_data"
    }
   ],
   "source": [
    "plt.spy(U)\n",
    "plt.show()"
   ]
  },
  {
   "cell_type": "code",
   "execution_count": 89,
   "metadata": {},
   "outputs": [],
   "source": [
    "A = spsp.csr_matrix(np.eye(50, 50)) + spsp.rand(50, 50, density=0.05, format='csr')\n",
    "\n",
    "P, L, U = lu_decomposition(A.tocsc(), find_separator_permutation)"
   ]
  },
  {
   "cell_type": "code",
   "execution_count": 90,
   "metadata": {},
   "outputs": [
    {
     "data": {
      "image/png": "[encoded data removed]",
      "text/plain": [
       "<Figure size 432x288 with 1 Axes>"
      ]
     },
     "metadata": {
      "needs_background": "light"
     },
     "output_type": "display_data"
    }
   ],
   "source": [
    "plt.spy(A)\n",
    "plt.show()"
   ]
  },
  {
   "cell_type": "code",
   "execution_count": 92,
   "metadata": {},
   "outputs": [
    {
     "data": {
      "image/png": "[encoded data removed]",
      "text/plain": [
       "<Figure size 432x288 with 1 Axes>"
      ]
     },
     "metadata": {
      "needs_background": "light"
     },
     "output_type": "display_data"
    }
   ],
   "source": [
    "plt.spy(L@U)\n",
    "plt.show()"
   ]
  },
  {
   "cell_type": "code",
   "execution_count": 93,
   "metadata": {},
   "outputs": [
    {
     "data": {
      "image/png": "[encoded data removed]",
      "text/plain": [
       "<Figure size 432x288 with 1 Axes>"
      ]
     },
     "metadata": {
      "needs_background": "light"
     },
     "output_type": "display_data"
    }
   ],
   "source": [
    "plt.spy(L)\n",
    "plt.show()"
   ]
  },
  {
   "cell_type": "code",
   "execution_count": 94,
   "metadata": {},
   "outputs": [
    {
     "data": {
      "image/png": "[encoded data removed]",
      "text/plain": [
       "<Figure size 432x288 with 1 Axes>"
      ]
     },
     "metadata": {
      "needs_background": "light"
     },
     "output_type": "display_data"
    }
   ],
   "source": [
    "plt.spy(U)\n",
    "plt.show()"
   ]
  },
  {
   "cell_type": "code",
   "execution_count": 104,
   "metadata": {},
   "outputs": [],
   "source": [
    "P, L, U = lu(A.todense())"
   ]
  },
  {
   "cell_type": "code",
   "execution_count": 105,
   "metadata": {},
   "outputs": [
    {
     "data": {
      "image/png": "[encoded data removed]",
      "text/plain": [
       "<Figure size 432x288 with 1 Axes>"
      ]
     },
     "metadata": {
      "needs_background": "light"
     },
     "output_type": "display_data"
    }
   ],
   "source": [
    "plt.spy(L)\n",
    "plt.show()"
   ]
  },
  {
   "cell_type": "code",
   "execution_count": 106,
   "metadata": {},
   "outputs": [
    {
     "data": {
      "image/png": "[encoded data removed]",
      "text/plain": [
       "<Figure size 432x288 with 1 Axes>"
      ]
     },
     "metadata": {
      "needs_background": "light"
     },
     "output_type": "display_data"
    }
   ],
   "source": [
    "plt.spy(U)\n",
    "plt.show()"
   ]
  },
  {
   "cell_type": "code",
   "execution_count": null,
   "metadata": {},
   "outputs": [],
   "source": []
  }
 ],
 "metadata": {
  "kernelspec": {
   "display_name": "Python 3",
   "language": "python",
   "name": "python3"
  },
  "language_info": {
   "codemirror_mode": {
    "name": "ipython",
    "version": 3
   },
   "file_extension": ".py",
   "mimetype": "text/x-python",
   "name": "python",
   "nbconvert_exporter": "python",
   "pygments_lexer": "ipython3",
   "version": "3.8.5"
  }
 },
 "nbformat": 4,
 "nbformat_minor": 4
}
