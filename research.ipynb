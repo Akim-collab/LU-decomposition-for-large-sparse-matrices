{
 "cells": [
  {
   "cell_type": "markdown",
   "metadata": {},
   "source": [
    "# Nested Dissection"
   ]
  },
  {
   "cell_type": "code",
   "execution_count": null,
   "metadata": {},
   "outputs": [],
   "source": [
    "import numpy as np\n",
    "import scipy.sparse as spsp\n",
    "import matplotlib.pyplot as plt\n",
    "import time\n",
    "\n",
    "def custom_lu_decomposition_iter(L, U, i, j, n, m):\n",
    "    # Итерация для LU-разложения\n",
    "    for k in range(j, j + m):\n",
    "        a = U.getrow(k).getcol(k).toarray()[0][0]\n",
    "        for row in range(max(i, k + 1), i + n):\n",
    "            b = U.getrow(row).getcol(k).toarray()[0][0]\n",
    "            if b != 0:\n",
    "                L.append((row, k, b / (a + 1e-16)))\n",
    "                U[row] = U.getrow(row) - b * (U.getrow(k) / (a + 1e-16))\n",
    "\n",
    "def recursive_partitioning(P, L, U, i, n, separate_permutation):\n",
    "    # Рекурсивное разбиение и применение LU-разложения\n",
    "    if n < 10:  # Экстремальный случай\n",
    "        custom_lu_decomposition_iter(L, U, i, i, n, n)\n",
    "        return\n",
    "\n",
    "    P_local, a, b, g = separate_permutation(U[i:(i+n), i:(i+n)])  # Получаем перестановку для блок-стрелочной формы\n",
    "    P_i = np.arange(0, U.shape[0])  # Перестановка в i-й итерации\n",
    "    P_i[i:(i+n)] = P_local + i\n",
    "    U[:] = U[P_i, :][:, P_i]  # Применяем перестановку к U (в place)\n",
    "    P[:] = P[P_i]\n",
    "\n",
    "    if max(a, b, g) == n:  # Случай бесконечной рекурсии (когда следующее деление невозможно)\n",
    "        custom_lu_decomposition_iter(L, U, i, i, n, n)\n",
    "    else:\n",
    "        recursive_partitioning(P, L, U, i, a, separate_permutation)  # (alpha, alpha)\n",
    "        custom_lu_decomposition_iter(L, U, i + a + b, i, g, a)  # LU над частью (gamma,alpha)\n",
    "        recursive_partitioning(P, L, U, i + a, b, separate_permutation)  # (beta, beta)\n",
    "        custom_lu_decomposition_iter(L, U, i + a + b, i + a, g, b)  # LU над частью (gamma,beta)\n",
    "        recursive_partitioning(P, L, U, i + a + b, g, separate_permutation)  # (gamma, gamma)\n",
    "\n",
    "def lu_decomposition(A, separate_permutation, copy=True):\n",
    "    # LU-разложение матрицы\n",
    "    P = np.arange(0, A.shape[0])  # Перестановка по умолчанию\n",
    "    L = [(i, i, 1) for i in range(0, A.shape[0])]  # Заполняем диагональ единицами\n",
    "\n",
    "    if copy:\n",
    "        U = A.copy()\n",
    "    else:\n",
    "        U = A\n",
    "\n",
    "    # Изменения P, L, U вместе\n",
    "    recursive_partitioning(P, L, U, 0, A.shape[0], separate_permutation)\n",
    "\n",
    "    P = np.argsort(P)  # Применяем транспозицию\n",
    "\n",
    "    # Создаем разреженную матрицу из списка COO\n",
    "    row = [L[i][0] for i in range(len(L))]\n",
    "    col = [L[i][1] for i in range(len(L))]\n",
    "    data = [L[i][2] for i in range(len(L))]\n",
    "    L = spsp.coo_matrix((data, (row, col)))\n",
    "\n",
    "    return P, L, U\n",
    "\n",
    "def generate_sparse_matrix(n, density=0.2):\n",
    "    # Генерация разреженной матрицы размера n x n с указанной плотностью\n",
    "    return spsp.rand(n, n, density=density, format='csr')\n",
    "\n",
    "def find_separator_permutation(mat):\n",
    "    # Находит собственный вектор Фидлера\n",
    "    Laplacian = spsp.csgraph.laplacian(mat, dtype=np.float32)\n",
    "    eigval, eigvec = spsp.linalg.eigsh(Laplacian, k=2, which=\"SM\")\n",
    "    colors = np.sign(eigvec[:, 1])\n",
    "\n",
    "    # Получаем 3 множества, где gamma - разделитель\n",
    "    if eigval[1] < 1e-8:  # Проверка на неподключенный граф\n",
    "        alpha = spsp.csgraph.depth_first_order(Laplacian, 0, return_predecessors=False)\n",
    "        beta = np.setdiff1d(np.arange(0, len(colors)), alpha)\n",
    "        gamma = np.array([])\n",
    "    else:\n",
    "        gamma = set()\n",
    "        for k in range(0, len(Laplacian.row)):\n",
    "            i = Laplacian.row[k]\n",
    "            j = Laplacian.col[k]\n",
    "            if j > i and colors[i] != colors[j]:\n",
    "                gamma.add(i)\n",
    "                gamma.add(j)\n",
    "        gamma = np.array(list(gamma))\n",
    "        beta = np.setdiff1d(np.where(colors > 0), gamma)\n",
    "        alpha = np.setdiff1d(np.where(colors < 0), gamma)\n",
    "\n",
    "    # Создаем перестановку на основе множеств\n",
    "    a, b, g = len(alpha), len(beta), len(gamma)\n",
    "    start = 0\n",
    "    P = np.zeros(len(colors), dtype=np.int32)\n",
    "    if a > 0: P[alpha] = np.arange(start, start + a)\n",
    "    start += a\n",
    "    if b > 0: P[beta] = np.arange(start, start + b)\n",
    "    start += b\n",
    "    if g > 0: P[gamma] = np.arange(start, start + g)\n",
    "    P = P.argsort()\n",
    "    return P, a, b, g\n",
    "\n",
    "# Пример использования\n",
    "if __name__ == '__main__':\n",
    "    # Генерация разреженной матрицы\n",
    "    n = 10000\n",
    "    density = 0.9\n",
    "    A = generate_sparse_matrix(n, density)\n",
    "    \n",
    "    # Получение LU-разложения\n",
    "    start_time = time.time()\n",
    "    P, L, U = lu_decomposition(A, find_separator_permutation)\n",
    "    end_time = time.time()\n",
    "    print(\"Время разложения [с] =\", end_time - start_time)\n",
    "    \n",
    "    # Проверка точности разложения\n",
    "    LU = L.dot(U)\n",
    "    norm_A = spsp.linalg.norm(A, ord='fro')\n",
    "    norm_LU = spsp.linalg.norm(LU, ord='fro')\n",
    "    norm_diff = spsp.linalg.norm(LU - A, ord='fro')\n",
    "\n",
    "    print(\"Norm(A):\", norm_A)\n",
    "    print(\"Norm(LU):\", norm_LU)\n",
    "    print(\"Norm(P(LU)P - A):\", norm_diff)\n",
    "\n",
    "    # Визуализация разреженных матриц\n",
    "    data = [A, LU, L, U]\n",
    "    fig, axs = plt.subplots(1, len(data))\n",
    "    for i in range(len(data)):\n",
    "        axs[i].spy(data[i], aspect='equal', marker='.', markersize=2, precision=1e-5)\n",
    "    plt.show()"
   ]
  },
  {
   "cell_type": "code",
   "execution_count": 143,
   "metadata": {},
   "outputs": [
    {
     "name": "stdout",
     "output_type": "stream",
     "text": [
      "CPU times: user 3.9 s, sys: 59.8 ms, total: 3.96 s\n",
      "Wall time: 4.25 s\n"
     ]
    }
   ],
   "source": [
    "%%time\n",
    "P, L, U = lu_decomposition(A, find_separator_permutation)"
   ]
  },
  {
   "cell_type": "code",
   "execution_count": 142,
   "metadata": {},
   "outputs": [
    {
     "name": "stdout",
     "output_type": "stream",
     "text": [
      "CPU times: user 7.87 ms, sys: 2.83 ms, total: 10.7 ms\n",
      "Wall time: 10.1 ms\n"
     ]
    },
    {
     "data": {
      "text/plain": [
       "(array([[0., 0., 0., ..., 0., 0., 0.],\n",
       "        [0., 0., 0., ..., 0., 0., 0.],\n",
       "        [0., 0., 0., ..., 0., 0., 0.],\n",
       "        ...,\n",
       "        [0., 0., 0., ..., 1., 0., 0.],\n",
       "        [0., 0., 0., ..., 0., 0., 0.],\n",
       "        [0., 0., 0., ..., 0., 0., 0.]]),\n",
       " array([[ 1.        ,  0.        ,  0.        , ...,  0.        ,\n",
       "          0.        ,  0.        ],\n",
       "        [ 0.09878505,  1.        ,  0.        , ...,  0.        ,\n",
       "          0.        ,  0.        ],\n",
       "        [ 0.9434324 , -0.17213849,  1.        , ...,  0.        ,\n",
       "          0.        ,  0.        ],\n",
       "        ...,\n",
       "        [ 0.65144641,  0.01790458,  0.52061913, ...,  1.        ,\n",
       "          0.        ,  0.        ],\n",
       "        [ 0.44809754, -0.05302043,  0.47574243, ..., -0.84605615,\n",
       "          1.        ,  0.        ],\n",
       "        [ 0.        ,  0.88162689, -0.23215264, ..., -0.91704044,\n",
       "          0.05211275,  1.        ]]),\n",
       " array([[ 9.93229556e-01,  1.86180951e-01,  9.70358373e-01, ...,\n",
       "          1.16564073e-01,  2.67295380e-01,  5.93397063e-01],\n",
       "        [ 0.00000000e+00,  9.53360138e-01,  2.46438650e-02, ...,\n",
       "          3.11783006e-01,  2.04216859e-01,  6.72529831e-01],\n",
       "        [ 0.00000000e+00,  0.00000000e+00, -9.11225371e-01, ...,\n",
       "          8.20277619e-01,  3.61636590e-01,  4.17324418e-01],\n",
       "        ...,\n",
       "        [ 0.00000000e+00,  0.00000000e+00, -5.55111512e-17, ...,\n",
       "          1.87588387e+00, -4.66794740e+00,  1.09721127e+00],\n",
       "        [ 0.00000000e+00,  0.00000000e+00,  0.00000000e+00, ...,\n",
       "          0.00000000e+00, -7.93939460e-01,  5.59512487e-01],\n",
       "        [ 0.00000000e+00,  0.00000000e+00,  0.00000000e+00, ...,\n",
       "          0.00000000e+00,  0.00000000e+00,  6.70606845e-01]]))"
      ]
     },
     "execution_count": 142,
     "metadata": {},
     "output_type": "execute_result"
    }
   ],
   "source": [
    "%%time\n",
    "partial_pivoting_lu(A.todense())"
   ]
  },
  {
   "cell_type": "code",
   "execution_count": 132,
   "metadata": {},
   "outputs": [
    {
     "name": "stdout",
     "output_type": "stream",
     "text": [
      "CPU times: user 756 µs, sys: 467 µs, total: 1.22 ms\n",
      "Wall time: 3.39 ms\n"
     ]
    },
    {
     "data": {
      "text/plain": [
       "(array([[0., 0., 0., ..., 0., 0., 0.],\n",
       "        [0., 0., 0., ..., 0., 0., 0.],\n",
       "        [0., 0., 0., ..., 0., 0., 0.],\n",
       "        ...,\n",
       "        [0., 0., 0., ..., 0., 0., 0.],\n",
       "        [0., 0., 0., ..., 0., 0., 0.],\n",
       "        [0., 0., 0., ..., 0., 0., 0.]]),\n",
       " array([[ 1.        ,  0.        ,  0.        , ...,  0.        ,\n",
       "          0.        ,  0.        ],\n",
       "        [ 0.37934975,  1.        ,  0.        , ...,  0.        ,\n",
       "          0.        ,  0.        ],\n",
       "        [ 0.15775701,  0.85185965,  1.        , ...,  0.        ,\n",
       "          0.        ,  0.        ],\n",
       "        ...,\n",
       "        [ 0.22400697,  0.4413075 ,  0.56373713, ...,  1.        ,\n",
       "          0.        ,  0.        ],\n",
       "        [ 0.07593386,  0.54473973,  0.43863608, ..., -0.14837557,\n",
       "          1.        ,  0.        ],\n",
       "        [ 0.0478587 ,  0.69108394,  0.14564925, ...,  0.46124642,\n",
       "         -0.98556266,  1.        ]]),\n",
       " array([[ 0.98508833,  0.02581559,  0.67572781, ...,  0.63228184,\n",
       "          0.11985304,  0.9560776 ],\n",
       "        [ 0.        ,  0.98656891, -0.17914342, ...,  0.09742619,\n",
       "         -0.04546622,  0.11811294],\n",
       "        [ 0.        ,  0.        ,  1.01831599, ...,  0.46564495,\n",
       "          0.04993482,  0.5234441 ],\n",
       "        ...,\n",
       "        [ 0.        ,  0.        ,  0.        , ...,  2.27424776,\n",
       "         -0.96675871, -2.30670118],\n",
       "        [ 0.        ,  0.        ,  0.        , ...,  0.        ,\n",
       "         -1.07392657,  2.31930611],\n",
       "        [ 0.        ,  0.        ,  0.        , ...,  0.        ,\n",
       "          0.        ,  3.59759616]]))"
      ]
     },
     "execution_count": 132,
     "metadata": {},
     "output_type": "execute_result"
    }
   ],
   "source": [
    "%%time\n",
    "lu(A.todense())"
   ]
  },
  {
   "cell_type": "code",
   "execution_count": 141,
   "metadata": {},
   "outputs": [],
   "source": [
    "def partial_pivoting_lu(A):\n",
    "    n = len(A)\n",
    "    P = np.eye(n)  # начальная перестановочная матрица\n",
    "    L = np.eye(n)  # начальная нижняя треугольная матрица\n",
    "    U = np.copy(A)  # начальная верхняя треугольная матрица\n",
    "\n",
    "    for j in range(n - 1):\n",
    "        # Шаг 1: Находим максимальный элемент в столбце под главной диагональю\n",
    "        pivot_row = np.argmax(np.abs(U[j:, j])) + j\n",
    "\n",
    "        # Меняем строки в U, L и P соответственно\n",
    "        U[[j, pivot_row], j:] = U[[pivot_row, j], j:]\n",
    "        L[[j, pivot_row], :j] = L[[pivot_row, j], :j]\n",
    "        P[[j, pivot_row], :] = P[[pivot_row, j], :]\n",
    "\n",
    "        # Шаг 2: Обновляем матрицы L и U\n",
    "        L[j + 1:, j] = U[j + 1:, j] / U[j, j]\n",
    "        U[j + 1:, j:] -= np.outer(L[j + 1:, j], U[j, j:])\n",
    "\n",
    "    return P, L, U"
   ]
  },
  {
   "cell_type": "code",
   "execution_count": null,
   "metadata": {},
   "outputs": [],
   "source": []
  }
 ],
 "metadata": {
  "kernelspec": {
   "display_name": "Python 3",
   "language": "python",
   "name": "python3"
  },
  "language_info": {
   "codemirror_mode": {
    "name": "ipython",
    "version": 3
   },
   "file_extension": ".py",
   "mimetype": "text/x-python",
   "name": "python",
   "nbconvert_exporter": "python",
   "pygments_lexer": "ipython3",
   "version": "3.8.5"
  }
 },
 "nbformat": 4,
 "nbformat_minor": 4
}
