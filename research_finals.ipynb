{
 "cells": [
  {
   "cell_type": "code",
   "execution_count": 1,
   "metadata": {
    "id": "FBLOPMBOxl03"
   },
   "outputs": [],
   "source": [
    "import numpy as np\n",
    "import scipy.sparse\n",
    "import scipy.linalg\n",
    "import time\n",
    "from numba import jit"
   ]
  },
  {
   "cell_type": "code",
   "execution_count": 2,
   "metadata": {
    "id": "YnaACr8u_Pyh"
   },
   "outputs": [],
   "source": [
    "def partial_pivoting_lu(A):\n",
    "    n = len(A)\n",
    "    P = np.eye(n)\n",
    "    L = np.eye(n)\n",
    "    U = np.copy(A)\n",
    "\n",
    "    for j in range(n - 1):\n",
    "        pivot_row = np.argmax(np.abs(U[j:, j])) + j\n",
    "\n",
    "        U[[j, pivot_row], j:] = U[[pivot_row, j], j:]\n",
    "        L[[j, pivot_row], :j] = L[[pivot_row, j], :j]\n",
    "        P[[j, pivot_row], :] = P[[pivot_row, j], :]\n",
    "\n",
    "        L[j + 1:, j] = U[j + 1:, j] / U[j, j]\n",
    "        U[j + 1:, j:] -= np.outer(L[j + 1:, j], U[j, j:])\n",
    "\n",
    "    return P, L, U"
   ]
  },
  {
   "cell_type": "code",
   "execution_count": 3,
   "metadata": {
    "id": "pAATzm5CxhoA"
   },
   "outputs": [],
   "source": [
    "def incomplete_lu(A):\n",
    "    n = A.shape[0]\n",
    "    L = np.zeros_like(A)\n",
    "    U = np.zeros_like(A)\n",
    "\n",
    "    non_zero_positions_A = {i: set() for i in range(n)}\n",
    "    for i in range(n):\n",
    "        for j in range(n):\n",
    "            if A[i, j] != 0:\n",
    "                non_zero_positions_A[i].add(j)\n",
    "\n",
    "    LU_product = np.zeros_like(A)\n",
    "\n",
    "    for i in range(n):\n",
    "        for j in range(i, n):\n",
    "            sum_upper = 0\n",
    "            for k in non_zero_positions_A[i].intersection(non_zero_positions_A[j]):\n",
    "                sum_upper += L[i, k] * U[k, j]\n",
    "            U[i, j] = A[i, j] - sum_upper\n",
    "            LU_product[i, j] = sum_upper\n",
    "\n",
    "        for j in range(i+1, n):\n",
    "            if j in non_zero_positions_A[i]:\n",
    "                sum_lower = 0\n",
    "                for k in non_zero_positions_A[j].intersection(non_zero_positions_A[i]):\n",
    "                    sum_lower += L[j, k] * U[k, i]\n",
    "                L[j, i] = (A[j, i] - sum_lower) / U[i, i]\n",
    "\n",
    "    for i in range(n):\n",
    "        L[i, i] = 1\n",
    "\n",
    "    return L, U\n"
   ]
  },
  {
   "cell_type": "code",
   "execution_count": 134,
   "metadata": {
    "colab": {
     "base_uri": "https://localhost:8080/"
    },
    "id": "aib3cuj4GnKp",
    "outputId": "1008ec14-56ee-4afc-c8e3-7859f4cfb451"
   },
   "outputs": [
    {
     "name": "stdout",
     "output_type": "stream",
     "text": [
      "partial_pivot_time: 0.6416752338409424\n",
      "error_partial_pivot: 70.91655769770628\n",
      "incomplete_time: 0.6537096500396729\n",
      "error_incomplete: 41.3483134577293\n",
      "scipy_time: 0.05950641632080078\n",
      "error_scipy: 1.143044217465287e-13\n"
     ]
    }
   ],
   "source": [
    "import time\n",
    "\n",
    "def create_large_sparse_matrix(n, density=0.01):\n",
    "\n",
    "    return scipy.sparse.rand(n, n, density=density).toarray()\n",
    "\n",
    "def test_lu_decompositions(n=1000, density=0.01):\n",
    "    A = create_large_sparse_matrix(n, density)\n",
    "\n",
    "    # Ensure the matrix is not singular\n",
    "    A += scipy.sparse.diags([1]*n).toarray()\n",
    "\n",
    "    # Test partial_pivoting_lu\n",
    "    start_time = time.time()\n",
    "    P_custom, L_custom, U_custom = partial_pivoting_lu(A)\n",
    "    partial_pivot_time = time.time() - start_time\n",
    "    A_reconstructed_custom = np.dot(P_custom, np.dot(L_custom, U_custom))\n",
    "    error_partial_pivot = np.linalg.norm(A - A_reconstructed_custom, 'fro')\n",
    "\n",
    "    # Test incomplete_lu_numba\n",
    "    start_time = time.time()\n",
    "    L_incomplete, U_incomplete = incomplete_lu(A)\n",
    "    incomplete_time = time.time() - start_time\n",
    "    A_reconstructed_incomplete = np.dot(L_incomplete, U_incomplete)\n",
    "    error_incomplete = np.linalg.norm(A - A_reconstructed_incomplete, 'fro')\n",
    "\n",
    "    # Test scipy.linalg.lu\n",
    "    start_time = time.time()\n",
    "    P_scipy, L_scipy, U_scipy = scipy.linalg.lu(A)\n",
    "    scipy_time = time.time() - start_time\n",
    "    A_reconstructed_scipy = np.dot(P_scipy, np.dot(L_scipy, U_scipy))\n",
    "    error_scipy = np.linalg.norm(A - A_reconstructed_scipy, 'fro')\n",
    "\n",
    "    return {\n",
    "        \"partial_pivot_time\": partial_pivot_time, \"error_partial_pivot\": error_partial_pivot,\n",
    "        \"incomplete_time\": incomplete_time, \"error_incomplete\": error_incomplete,\n",
    "        \"scipy_time\": scipy_time, \"error_scipy\": error_scipy\n",
    "    }\n",
    "\n",
    "results = test_lu_decompositions(n=1000, density=0.01)\n",
    "for key, value in results.items():\n",
    "    print(f\"{key}: {value}\")"
   ]
  },
  {
   "cell_type": "code",
   "execution_count": 4,
   "metadata": {
    "id": "vmjVb1PLG0JC"
   },
   "outputs": [],
   "source": [
    "def rcm_reorder(A):\n",
    "    \"\"\"\n",
    "    Apply Reverse Cuthill–McKee ordering to a sparse matrix A.\n",
    "    Returns the permutation index array.\n",
    "    \"\"\"\n",
    "    n = A.shape[0]\n",
    "    visited = np.zeros(n, dtype=bool)\n",
    "    levels = []\n",
    "    perm = []\n",
    "\n",
    "    def bfs(start):\n",
    "        q = deque()\n",
    "        q.append(start)\n",
    "        visited[start] = True\n",
    "        level = []\n",
    "\n",
    "        while q:\n",
    "            node = q.popleft()\n",
    "            level.append(node)\n",
    "            for neighbor in np.where(A[node].toarray()[0])[0]:\n",
    "                if not visited[neighbor]:\n",
    "                    visited[neighbor] = True\n",
    "                    q.append(neighbor)\n",
    "        levels.append(level)\n",
    "\n",
    "    for i in range(n):\n",
    "        if not visited[i]:\n",
    "            bfs(i)\n",
    "\n",
    "    for level in reversed(levels):\n",
    "        perm.extend(sorted(level, key=lambda x: np.sum(A[x].toarray())))\n",
    "\n",
    "    return perm\n",
    "\n",
    "def apply_permutation(A, perm):\n",
    "    \"\"\"\n",
    "    Apply the permutation to the rows and columns of A.\n",
    "    \"\"\"\n",
    "    return A[perm, :][:, perm]"
   ]
  },
  {
   "cell_type": "code",
   "execution_count": 5,
   "metadata": {
    "id": "SfqKKBwEEgaF"
   },
   "outputs": [],
   "source": [
    "from collections import deque"
   ]
  },
  {
   "cell_type": "code",
   "execution_count": 6,
   "metadata": {
    "id": "-ZSnVLKz0iTv"
   },
   "outputs": [],
   "source": [
    "A = scipy.linalg.hilbert(10)"
   ]
  },
  {
   "cell_type": "code",
   "execution_count": 7,
   "metadata": {
    "id": "mLZNDJhXE08z"
   },
   "outputs": [],
   "source": [
    "import scipy.sparse as sparse\n",
    "import matplotlib.pyplot as plt"
   ]
  },
  {
   "cell_type": "markdown",
   "metadata": {},
   "source": [
    "# Катхи Макии"
   ]
  },
  {
   "cell_type": "code",
   "execution_count": 32,
   "metadata": {
    "colab": {
     "base_uri": "https://localhost:8080/",
     "height": 435
    },
    "id": "W1ndNC51ElhW",
    "outputId": "ecc55596-6960-4dcb-d7b7-e715f55776e9"
   },
   "outputs": [
    {
     "data": {
      "image/png": "[encoded data removed]",
      "text/plain": [
       "<Figure size 432x288 with 1 Axes>"
      ]
     },
     "metadata": {
      "needs_background": "light"
     },
     "output_type": "display_data"
    }
   ],
   "source": [
    "n = 100\n",
    "A = sparse.random(n, n, 0.005) + sparse.eye(n)\n",
    "A = 1 / 2 * (A+ A.T)\n",
    "plt.spy(A)\n",
    "plt.show()"
   ]
  },
  {
   "cell_type": "code",
   "execution_count": 33,
   "metadata": {
    "id": "fwVtGi0pEyxc"
   },
   "outputs": [],
   "source": [
    "perm = rcm_reorder(A)\n",
    "A_reordered = apply_permutation(A, perm)"
   ]
  },
  {
   "cell_type": "code",
   "execution_count": 34,
   "metadata": {
    "colab": {
     "base_uri": "https://localhost:8080/",
     "height": 435
    },
    "id": "run04_L8FCzj",
    "outputId": "63f6ea9c-5ae0-4345-e937-a4d5b19e1d5d"
   },
   "outputs": [
    {
     "data": {
      "image/png": "[encoded data removed]",
      "text/plain": [
       "<Figure size 432x288 with 1 Axes>"
      ]
     },
     "metadata": {
      "needs_background": "light"
     },
     "output_type": "display_data"
    }
   ],
   "source": [
    "plt.spy(A_reordered)\n",
    "plt.show()"
   ]
  },
  {
   "cell_type": "code",
   "execution_count": 41,
   "metadata": {},
   "outputs": [],
   "source": [
    "p_lu, L_lu, U_lu = scipy.linalg.lu(A_reordered.todense())"
   ]
  },
  {
   "cell_type": "code",
   "execution_count": 42,
   "metadata": {},
   "outputs": [
    {
     "data": {
      "image/png": "[encoded data removed]",
      "text/plain": [
       "<Figure size 432x288 with 1 Axes>"
      ]
     },
     "metadata": {
      "needs_background": "light"
     },
     "output_type": "display_data"
    }
   ],
   "source": [
    "plt.spy(L_lu)\n",
    "plt.show()"
   ]
  },
  {
   "cell_type": "code",
   "execution_count": 43,
   "metadata": {},
   "outputs": [
    {
     "data": {
      "image/png": "[encoded data removed]",
      "text/plain": [
       "<Figure size 432x288 with 1 Axes>"
      ]
     },
     "metadata": {
      "needs_background": "light"
     },
     "output_type": "display_data"
    }
   ],
   "source": [
    "plt.spy(U_lu)\n",
    "plt.show()"
   ]
  },
  {
   "cell_type": "markdown",
   "metadata": {},
   "source": [
    "# incomplete_lu"
   ]
  },
  {
   "cell_type": "code",
   "execution_count": 44,
   "metadata": {
    "id": "zNTQxs0UFFkN"
   },
   "outputs": [],
   "source": [
    "L, U = incomplete_lu(A.todense())"
   ]
  },
  {
   "cell_type": "code",
   "execution_count": 45,
   "metadata": {},
   "outputs": [
    {
     "data": {
      "image/png": "[encoded data removed]",
      "text/plain": [
       "<Figure size 432x288 with 1 Axes>"
      ]
     },
     "metadata": {
      "needs_background": "light"
     },
     "output_type": "display_data"
    }
   ],
   "source": [
    "plt.spy(L)\n",
    "plt.show()"
   ]
  },
  {
   "cell_type": "code",
   "execution_count": 46,
   "metadata": {},
   "outputs": [
    {
     "data": {
      "image/png": "[encoded data removed]",
      "text/plain": [
       "<Figure size 432x288 with 1 Axes>"
      ]
     },
     "metadata": {
      "needs_background": "light"
     },
     "output_type": "display_data"
    }
   ],
   "source": [
    "plt.spy(U)\n",
    "plt.show()"
   ]
  },
  {
   "cell_type": "code",
   "execution_count": 38,
   "metadata": {},
   "outputs": [],
   "source": [
    "p_lu, L_lu, U_lu = scipy.linalg.lu(A.todense())"
   ]
  },
  {
   "cell_type": "code",
   "execution_count": 39,
   "metadata": {},
   "outputs": [
    {
     "data": {
      "image/png": "[encoded data removed]",
      "text/plain": [
       "<Figure size 432x288 with 1 Axes>"
      ]
     },
     "metadata": {
      "needs_background": "light"
     },
     "output_type": "display_data"
    }
   ],
   "source": [
    "plt.spy(L_lu)\n",
    "plt.show()"
   ]
  },
  {
   "cell_type": "code",
   "execution_count": 40,
   "metadata": {},
   "outputs": [
    {
     "data": {
      "image/png": "[encoded data removed]",
      "text/plain": [
       "<Figure size 432x288 with 1 Axes>"
      ]
     },
     "metadata": {
      "needs_background": "light"
     },
     "output_type": "display_data"
    }
   ],
   "source": [
    "plt.spy(U_lu)\n",
    "plt.show()"
   ]
  },
  {
   "cell_type": "code",
   "execution_count": null,
   "metadata": {},
   "outputs": [],
   "source": []
  }
 ],
 "metadata": {
  "colab": {
   "provenance": []
  },
  "kernelspec": {
   "display_name": "Python 3",
   "language": "python",
   "name": "python3"
  },
  "language_info": {
   "codemirror_mode": {
    "name": "ipython",
    "version": 3
   },
   "file_extension": ".py",
   "mimetype": "text/x-python",
   "name": "python",
   "nbconvert_exporter": "python",
   "pygments_lexer": "ipython3",
   "version": "3.8.5"
  }
 },
 "nbformat": 4,
 "nbformat_minor": 1
}
