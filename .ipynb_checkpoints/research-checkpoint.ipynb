{
 "cells": [
  {
   "cell_type": "markdown",
   "metadata": {},
   "source": [
    "# Simple LU"
   ]
  },
  {
   "cell_type": "code",
   "execution_count": 141,
   "metadata": {},
   "outputs": [],
   "source": [
    "def partial_pivoting_lu(A):\n",
    "    n = len(A)\n",
    "    P = np.eye(n)  # начальная перестановочная матрица\n",
    "    L = np.eye(n)  # начальная нижняя треугольная матрица\n",
    "    U = np.copy(A)  # начальная верхняя треугольная матрица\n",
    "\n",
    "    for j in range(n - 1):\n",
    "        # Шаг 1: Находим максимальный элемент в столбце под главной диагональю\n",
    "        pivot_row = np.argmax(np.abs(U[j:, j])) + j\n",
    "\n",
    "        # Меняем строки в U, L и P соответственно\n",
    "        U[[j, pivot_row], j:] = U[[pivot_row, j], j:]\n",
    "        L[[j, pivot_row], :j] = L[[pivot_row, j], :j]\n",
    "        P[[j, pivot_row], :] = P[[pivot_row, j], :]\n",
    "\n",
    "        # Шаг 2: Обновляем матрицы L и U\n",
    "        L[j + 1:, j] = U[j + 1:, j] / U[j, j]\n",
    "        U[j + 1:, j:] -= np.outer(L[j + 1:, j], U[j, j:])\n",
    "\n",
    "    return P, L, U"
   ]
  },
  {
   "cell_type": "markdown",
   "metadata": {},
   "source": [
    "# Nested Dissection"
   ]
  },
  {
   "cell_type": "code",
   "execution_count": 148,
   "metadata": {
    "scrolled": true
   },
   "outputs": [
    {
     "ename": "KeyboardInterrupt",
     "evalue": "",
     "output_type": "error",
     "traceback": [
      "\u001b[0;31m---------------------------------------------------------------------------\u001b[0m",
      "\u001b[0;31mKeyboardInterrupt\u001b[0m                         Traceback (most recent call last)",
      "\u001b[0;32m<ipython-input-148-04f187bea2cd>\u001b[0m in \u001b[0;36m<module>\u001b[0;34m\u001b[0m\n\u001b[1;32m    106\u001b[0m     \u001b[0;31m# Получение LU-разложения\u001b[0m\u001b[0;34m\u001b[0m\u001b[0;34m\u001b[0m\u001b[0;34m\u001b[0m\u001b[0m\n\u001b[1;32m    107\u001b[0m     \u001b[0mstart_time\u001b[0m \u001b[0;34m=\u001b[0m \u001b[0mtime\u001b[0m\u001b[0;34m.\u001b[0m\u001b[0mtime\u001b[0m\u001b[0;34m(\u001b[0m\u001b[0;34m)\u001b[0m\u001b[0;34m\u001b[0m\u001b[0;34m\u001b[0m\u001b[0m\n\u001b[0;32m--> 108\u001b[0;31m     \u001b[0mP\u001b[0m\u001b[0;34m,\u001b[0m \u001b[0mL\u001b[0m\u001b[0;34m,\u001b[0m \u001b[0mU\u001b[0m \u001b[0;34m=\u001b[0m \u001b[0mlu_decomposition\u001b[0m\u001b[0;34m(\u001b[0m\u001b[0mA\u001b[0m\u001b[0;34m,\u001b[0m \u001b[0mfind_separator_permutation\u001b[0m\u001b[0;34m)\u001b[0m\u001b[0;34m\u001b[0m\u001b[0;34m\u001b[0m\u001b[0m\n\u001b[0m\u001b[1;32m    109\u001b[0m     \u001b[0mend_time\u001b[0m \u001b[0;34m=\u001b[0m \u001b[0mtime\u001b[0m\u001b[0;34m.\u001b[0m\u001b[0mtime\u001b[0m\u001b[0;34m(\u001b[0m\u001b[0;34m)\u001b[0m\u001b[0;34m\u001b[0m\u001b[0;34m\u001b[0m\u001b[0m\n\u001b[1;32m    110\u001b[0m     \u001b[0mprint\u001b[0m\u001b[0;34m(\u001b[0m\u001b[0;34m\"Время разложения [с] =\"\u001b[0m\u001b[0;34m,\u001b[0m \u001b[0mend_time\u001b[0m \u001b[0;34m-\u001b[0m \u001b[0mstart_time\u001b[0m\u001b[0;34m)\u001b[0m\u001b[0;34m\u001b[0m\u001b[0;34m\u001b[0m\u001b[0m\n",
      "\u001b[0;32m<ipython-input-148-04f187bea2cd>\u001b[0m in \u001b[0;36mlu_decomposition\u001b[0;34m(A, separate_permutation, copy)\u001b[0m\n\u001b[1;32m     46\u001b[0m \u001b[0;34m\u001b[0m\u001b[0m\n\u001b[1;32m     47\u001b[0m     \u001b[0;31m# Изменения P, L, U вместе\u001b[0m\u001b[0;34m\u001b[0m\u001b[0;34m\u001b[0m\u001b[0;34m\u001b[0m\u001b[0m\n\u001b[0;32m---> 48\u001b[0;31m     \u001b[0mrecursive_partitioning\u001b[0m\u001b[0;34m(\u001b[0m\u001b[0mP\u001b[0m\u001b[0;34m,\u001b[0m \u001b[0mL\u001b[0m\u001b[0;34m,\u001b[0m \u001b[0mU\u001b[0m\u001b[0;34m,\u001b[0m \u001b[0;36m0\u001b[0m\u001b[0;34m,\u001b[0m \u001b[0mA\u001b[0m\u001b[0;34m.\u001b[0m\u001b[0mshape\u001b[0m\u001b[0;34m[\u001b[0m\u001b[0;36m0\u001b[0m\u001b[0;34m]\u001b[0m\u001b[0;34m,\u001b[0m \u001b[0mseparate_permutation\u001b[0m\u001b[0;34m)\u001b[0m\u001b[0;34m\u001b[0m\u001b[0;34m\u001b[0m\u001b[0m\n\u001b[0m\u001b[1;32m     49\u001b[0m \u001b[0;34m\u001b[0m\u001b[0m\n\u001b[1;32m     50\u001b[0m     \u001b[0mP\u001b[0m \u001b[0;34m=\u001b[0m \u001b[0mnp\u001b[0m\u001b[0;34m.\u001b[0m\u001b[0margsort\u001b[0m\u001b[0;34m(\u001b[0m\u001b[0mP\u001b[0m\u001b[0;34m)\u001b[0m  \u001b[0;31m# Применяем транспозицию\u001b[0m\u001b[0;34m\u001b[0m\u001b[0;34m\u001b[0m\u001b[0m\n",
      "\u001b[0;32m<ipython-input-148-04f187bea2cd>\u001b[0m in \u001b[0;36mrecursive_partitioning\u001b[0;34m(P, L, U, i, n, separate_permutation)\u001b[0m\n\u001b[1;32m     27\u001b[0m \u001b[0;34m\u001b[0m\u001b[0m\n\u001b[1;32m     28\u001b[0m     \u001b[0;32mif\u001b[0m \u001b[0mmax\u001b[0m\u001b[0;34m(\u001b[0m\u001b[0ma\u001b[0m\u001b[0;34m,\u001b[0m \u001b[0mb\u001b[0m\u001b[0;34m,\u001b[0m \u001b[0mg\u001b[0m\u001b[0;34m)\u001b[0m \u001b[0;34m==\u001b[0m \u001b[0mn\u001b[0m\u001b[0;34m:\u001b[0m  \u001b[0;31m# Случай бесконечной рекурсии (когда следующее деление невозможно)\u001b[0m\u001b[0;34m\u001b[0m\u001b[0;34m\u001b[0m\u001b[0m\n\u001b[0;32m---> 29\u001b[0;31m         \u001b[0mcustom_lu_decomposition_iter\u001b[0m\u001b[0;34m(\u001b[0m\u001b[0mL\u001b[0m\u001b[0;34m,\u001b[0m \u001b[0mU\u001b[0m\u001b[0;34m,\u001b[0m \u001b[0mi\u001b[0m\u001b[0;34m,\u001b[0m \u001b[0mi\u001b[0m\u001b[0;34m,\u001b[0m \u001b[0mn\u001b[0m\u001b[0;34m,\u001b[0m \u001b[0mn\u001b[0m\u001b[0;34m)\u001b[0m\u001b[0;34m\u001b[0m\u001b[0;34m\u001b[0m\u001b[0m\n\u001b[0m\u001b[1;32m     30\u001b[0m     \u001b[0;32melse\u001b[0m\u001b[0;34m:\u001b[0m\u001b[0;34m\u001b[0m\u001b[0;34m\u001b[0m\u001b[0m\n\u001b[1;32m     31\u001b[0m         \u001b[0mrecursive_partitioning\u001b[0m\u001b[0;34m(\u001b[0m\u001b[0mP\u001b[0m\u001b[0;34m,\u001b[0m \u001b[0mL\u001b[0m\u001b[0;34m,\u001b[0m \u001b[0mU\u001b[0m\u001b[0;34m,\u001b[0m \u001b[0mi\u001b[0m\u001b[0;34m,\u001b[0m \u001b[0ma\u001b[0m\u001b[0;34m,\u001b[0m \u001b[0mseparate_permutation\u001b[0m\u001b[0;34m)\u001b[0m  \u001b[0;31m# (alpha, alpha)\u001b[0m\u001b[0;34m\u001b[0m\u001b[0;34m\u001b[0m\u001b[0m\n",
      "\u001b[0;32m<ipython-input-148-04f187bea2cd>\u001b[0m in \u001b[0;36mcustom_lu_decomposition_iter\u001b[0;34m(L, U, i, j, n, m)\u001b[0m\n\u001b[1;32m     12\u001b[0m             \u001b[0;32mif\u001b[0m \u001b[0mb\u001b[0m \u001b[0;34m!=\u001b[0m \u001b[0;36m0\u001b[0m\u001b[0;34m:\u001b[0m\u001b[0;34m\u001b[0m\u001b[0;34m\u001b[0m\u001b[0m\n\u001b[1;32m     13\u001b[0m                 \u001b[0mL\u001b[0m\u001b[0;34m.\u001b[0m\u001b[0mappend\u001b[0m\u001b[0;34m(\u001b[0m\u001b[0;34m(\u001b[0m\u001b[0mrow\u001b[0m\u001b[0;34m,\u001b[0m \u001b[0mk\u001b[0m\u001b[0;34m,\u001b[0m \u001b[0mb\u001b[0m \u001b[0;34m/\u001b[0m \u001b[0;34m(\u001b[0m\u001b[0ma\u001b[0m \u001b[0;34m+\u001b[0m \u001b[0;36m1e-16\u001b[0m\u001b[0;34m)\u001b[0m\u001b[0;34m)\u001b[0m\u001b[0;34m)\u001b[0m\u001b[0;34m\u001b[0m\u001b[0;34m\u001b[0m\u001b[0m\n\u001b[0;32m---> 14\u001b[0;31m                 \u001b[0mU\u001b[0m\u001b[0;34m[\u001b[0m\u001b[0mrow\u001b[0m\u001b[0;34m]\u001b[0m \u001b[0;34m=\u001b[0m \u001b[0mU\u001b[0m\u001b[0;34m.\u001b[0m\u001b[0mgetrow\u001b[0m\u001b[0;34m(\u001b[0m\u001b[0mrow\u001b[0m\u001b[0;34m)\u001b[0m \u001b[0;34m-\u001b[0m \u001b[0mb\u001b[0m \u001b[0;34m*\u001b[0m \u001b[0;34m(\u001b[0m\u001b[0mU\u001b[0m\u001b[0;34m.\u001b[0m\u001b[0mgetrow\u001b[0m\u001b[0;34m(\u001b[0m\u001b[0mk\u001b[0m\u001b[0;34m)\u001b[0m \u001b[0;34m/\u001b[0m \u001b[0;34m(\u001b[0m\u001b[0ma\u001b[0m \u001b[0;34m+\u001b[0m \u001b[0;36m1e-16\u001b[0m\u001b[0;34m)\u001b[0m\u001b[0;34m)\u001b[0m\u001b[0;34m\u001b[0m\u001b[0;34m\u001b[0m\u001b[0m\n\u001b[0m\u001b[1;32m     15\u001b[0m \u001b[0;34m\u001b[0m\u001b[0m\n\u001b[1;32m     16\u001b[0m \u001b[0;32mdef\u001b[0m \u001b[0mrecursive_partitioning\u001b[0m\u001b[0;34m(\u001b[0m\u001b[0mP\u001b[0m\u001b[0;34m,\u001b[0m \u001b[0mL\u001b[0m\u001b[0;34m,\u001b[0m \u001b[0mU\u001b[0m\u001b[0;34m,\u001b[0m \u001b[0mi\u001b[0m\u001b[0;34m,\u001b[0m \u001b[0mn\u001b[0m\u001b[0;34m,\u001b[0m \u001b[0mseparate_permutation\u001b[0m\u001b[0;34m)\u001b[0m\u001b[0;34m:\u001b[0m\u001b[0;34m\u001b[0m\u001b[0;34m\u001b[0m\u001b[0m\n",
      "\u001b[0;32m~/opt/anaconda3/lib/python3.8/site-packages/scipy/sparse/_base.py\u001b[0m in \u001b[0;36m__sub__\u001b[0;34m(self, other)\u001b[0m\n\u001b[1;32m    489\u001b[0m             \u001b[0;32mif\u001b[0m \u001b[0mother\u001b[0m\u001b[0;34m.\u001b[0m\u001b[0mshape\u001b[0m \u001b[0;34m!=\u001b[0m \u001b[0mself\u001b[0m\u001b[0;34m.\u001b[0m\u001b[0mshape\u001b[0m\u001b[0;34m:\u001b[0m\u001b[0;34m\u001b[0m\u001b[0;34m\u001b[0m\u001b[0m\n\u001b[1;32m    490\u001b[0m                 \u001b[0;32mraise\u001b[0m \u001b[0mValueError\u001b[0m\u001b[0;34m(\u001b[0m\u001b[0;34m\"inconsistent shapes\"\u001b[0m\u001b[0;34m)\u001b[0m\u001b[0;34m\u001b[0m\u001b[0;34m\u001b[0m\u001b[0m\n\u001b[0;32m--> 491\u001b[0;31m             \u001b[0;32mreturn\u001b[0m \u001b[0mself\u001b[0m\u001b[0;34m.\u001b[0m\u001b[0m_sub_sparse\u001b[0m\u001b[0;34m(\u001b[0m\u001b[0mother\u001b[0m\u001b[0;34m)\u001b[0m\u001b[0;34m\u001b[0m\u001b[0;34m\u001b[0m\u001b[0m\n\u001b[0m\u001b[1;32m    492\u001b[0m         \u001b[0;32melif\u001b[0m \u001b[0misdense\u001b[0m\u001b[0;34m(\u001b[0m\u001b[0mother\u001b[0m\u001b[0;34m)\u001b[0m\u001b[0;34m:\u001b[0m\u001b[0;34m\u001b[0m\u001b[0;34m\u001b[0m\u001b[0m\n\u001b[1;32m    493\u001b[0m             \u001b[0mother\u001b[0m \u001b[0;34m=\u001b[0m \u001b[0mnp\u001b[0m\u001b[0;34m.\u001b[0m\u001b[0mbroadcast_to\u001b[0m\u001b[0;34m(\u001b[0m\u001b[0mother\u001b[0m\u001b[0;34m,\u001b[0m \u001b[0mself\u001b[0m\u001b[0;34m.\u001b[0m\u001b[0mshape\u001b[0m\u001b[0;34m)\u001b[0m\u001b[0;34m\u001b[0m\u001b[0;34m\u001b[0m\u001b[0m\n",
      "\u001b[0;32m~/opt/anaconda3/lib/python3.8/site-packages/scipy/sparse/_compressed.py\u001b[0m in \u001b[0;36m_sub_sparse\u001b[0;34m(self, other)\u001b[0m\n\u001b[1;32m    361\u001b[0m \u001b[0;34m\u001b[0m\u001b[0m\n\u001b[1;32m    362\u001b[0m     \u001b[0;32mdef\u001b[0m \u001b[0m_sub_sparse\u001b[0m\u001b[0;34m(\u001b[0m\u001b[0mself\u001b[0m\u001b[0;34m,\u001b[0m \u001b[0mother\u001b[0m\u001b[0;34m)\u001b[0m\u001b[0;34m:\u001b[0m\u001b[0;34m\u001b[0m\u001b[0;34m\u001b[0m\u001b[0m\n\u001b[0;32m--> 363\u001b[0;31m         \u001b[0;32mreturn\u001b[0m \u001b[0mself\u001b[0m\u001b[0;34m.\u001b[0m\u001b[0m_binopt\u001b[0m\u001b[0;34m(\u001b[0m\u001b[0mother\u001b[0m\u001b[0;34m,\u001b[0m \u001b[0;34m'_minus_'\u001b[0m\u001b[0;34m)\u001b[0m\u001b[0;34m\u001b[0m\u001b[0;34m\u001b[0m\u001b[0m\n\u001b[0m\u001b[1;32m    364\u001b[0m \u001b[0;34m\u001b[0m\u001b[0m\n\u001b[1;32m    365\u001b[0m     \u001b[0;32mdef\u001b[0m \u001b[0mmultiply\u001b[0m\u001b[0;34m(\u001b[0m\u001b[0mself\u001b[0m\u001b[0;34m,\u001b[0m \u001b[0mother\u001b[0m\u001b[0;34m)\u001b[0m\u001b[0;34m:\u001b[0m\u001b[0;34m\u001b[0m\u001b[0;34m\u001b[0m\u001b[0m\n",
      "\u001b[0;32m~/opt/anaconda3/lib/python3.8/site-packages/scipy/sparse/_compressed.py\u001b[0m in \u001b[0;36m_binopt\u001b[0;34m(self, other, op)\u001b[0m\n\u001b[1;32m   1265\u001b[0m            indptr, indices, data)\n\u001b[1;32m   1266\u001b[0m \u001b[0;34m\u001b[0m\u001b[0m\n\u001b[0;32m-> 1267\u001b[0;31m         \u001b[0mA\u001b[0m \u001b[0;34m=\u001b[0m \u001b[0mself\u001b[0m\u001b[0;34m.\u001b[0m\u001b[0m__class__\u001b[0m\u001b[0;34m(\u001b[0m\u001b[0;34m(\u001b[0m\u001b[0mdata\u001b[0m\u001b[0;34m,\u001b[0m \u001b[0mindices\u001b[0m\u001b[0;34m,\u001b[0m \u001b[0mindptr\u001b[0m\u001b[0;34m)\u001b[0m\u001b[0;34m,\u001b[0m \u001b[0mshape\u001b[0m\u001b[0;34m=\u001b[0m\u001b[0mself\u001b[0m\u001b[0;34m.\u001b[0m\u001b[0mshape\u001b[0m\u001b[0;34m)\u001b[0m\u001b[0;34m\u001b[0m\u001b[0;34m\u001b[0m\u001b[0m\n\u001b[0m\u001b[1;32m   1268\u001b[0m         \u001b[0mA\u001b[0m\u001b[0;34m.\u001b[0m\u001b[0mprune\u001b[0m\u001b[0;34m(\u001b[0m\u001b[0;34m)\u001b[0m\u001b[0;34m\u001b[0m\u001b[0;34m\u001b[0m\u001b[0m\n\u001b[1;32m   1269\u001b[0m \u001b[0;34m\u001b[0m\u001b[0m\n",
      "\u001b[0;32m~/opt/anaconda3/lib/python3.8/site-packages/scipy/sparse/_compressed.py\u001b[0m in \u001b[0;36m__init__\u001b[0;34m(self, arg1, shape, dtype, copy)\u001b[0m\n\u001b[1;32m     25\u001b[0m \u001b[0;34m\u001b[0m\u001b[0m\n\u001b[1;32m     26\u001b[0m     \u001b[0;32mdef\u001b[0m \u001b[0m__init__\u001b[0m\u001b[0;34m(\u001b[0m\u001b[0mself\u001b[0m\u001b[0;34m,\u001b[0m \u001b[0marg1\u001b[0m\u001b[0;34m,\u001b[0m \u001b[0mshape\u001b[0m\u001b[0;34m=\u001b[0m\u001b[0;32mNone\u001b[0m\u001b[0;34m,\u001b[0m \u001b[0mdtype\u001b[0m\u001b[0;34m=\u001b[0m\u001b[0;32mNone\u001b[0m\u001b[0;34m,\u001b[0m \u001b[0mcopy\u001b[0m\u001b[0;34m=\u001b[0m\u001b[0;32mFalse\u001b[0m\u001b[0;34m)\u001b[0m\u001b[0;34m:\u001b[0m\u001b[0;34m\u001b[0m\u001b[0;34m\u001b[0m\u001b[0m\n\u001b[0;32m---> 27\u001b[0;31m         \u001b[0m_data_matrix\u001b[0m\u001b[0;34m.\u001b[0m\u001b[0m__init__\u001b[0m\u001b[0;34m(\u001b[0m\u001b[0mself\u001b[0m\u001b[0;34m)\u001b[0m\u001b[0;34m\u001b[0m\u001b[0;34m\u001b[0m\u001b[0m\n\u001b[0m\u001b[1;32m     28\u001b[0m \u001b[0;34m\u001b[0m\u001b[0m\n\u001b[1;32m     29\u001b[0m         \u001b[0;32mif\u001b[0m \u001b[0misspmatrix\u001b[0m\u001b[0;34m(\u001b[0m\u001b[0marg1\u001b[0m\u001b[0;34m)\u001b[0m\u001b[0;34m:\u001b[0m\u001b[0;34m\u001b[0m\u001b[0;34m\u001b[0m\u001b[0m\n",
      "\u001b[0;32m~/opt/anaconda3/lib/python3.8/site-packages/scipy/sparse/_data.py\u001b[0m in \u001b[0;36m__init__\u001b[0;34m(self)\u001b[0m\n\u001b[1;32m     18\u001b[0m \u001b[0;31m# use .data.__methods__() instead of /=, *=, etc.\u001b[0m\u001b[0;34m\u001b[0m\u001b[0;34m\u001b[0m\u001b[0;34m\u001b[0m\u001b[0m\n\u001b[1;32m     19\u001b[0m \u001b[0;32mclass\u001b[0m \u001b[0m_data_matrix\u001b[0m\u001b[0;34m(\u001b[0m\u001b[0mspmatrix\u001b[0m\u001b[0;34m)\u001b[0m\u001b[0;34m:\u001b[0m\u001b[0;34m\u001b[0m\u001b[0;34m\u001b[0m\u001b[0m\n\u001b[0;32m---> 20\u001b[0;31m     \u001b[0;32mdef\u001b[0m \u001b[0m__init__\u001b[0m\u001b[0;34m(\u001b[0m\u001b[0mself\u001b[0m\u001b[0;34m)\u001b[0m\u001b[0;34m:\u001b[0m\u001b[0;34m\u001b[0m\u001b[0;34m\u001b[0m\u001b[0m\n\u001b[0m\u001b[1;32m     21\u001b[0m         \u001b[0mspmatrix\u001b[0m\u001b[0;34m.\u001b[0m\u001b[0m__init__\u001b[0m\u001b[0;34m(\u001b[0m\u001b[0mself\u001b[0m\u001b[0;34m)\u001b[0m\u001b[0;34m\u001b[0m\u001b[0;34m\u001b[0m\u001b[0m\n\u001b[1;32m     22\u001b[0m \u001b[0;34m\u001b[0m\u001b[0m\n",
      "\u001b[0;31mKeyboardInterrupt\u001b[0m: "
     ]
    }
   ],
   "source": [
    "import numpy as np\n",
    "import scipy.sparse as spsp\n",
    "import matplotlib.pyplot as plt\n",
    "import time\n",
    "\n",
    "def custom_lu_decomposition_iter(L, U, i, j, n, m):\n",
    "    # Итерация для LU-разложения\n",
    "    for k in range(j, j + m):\n",
    "        a = U.getrow(k).getcol(k).toarray()[0][0]\n",
    "        for row in range(max(i, k + 1), i + n):\n",
    "            b = U.getrow(row).getcol(k).toarray()[0][0]\n",
    "            if b != 0:\n",
    "                L.append((row, k, b / (a + 1e-16)))\n",
    "                U[row] = U.getrow(row) - b * (U.getrow(k) / (a + 1e-16))\n",
    "\n",
    "def recursive_partitioning(P, L, U, i, n, separate_permutation):\n",
    "    # Рекурсивное разбиение и применение LU-разложения\n",
    "    if n < 10:  # Экстремальный случай\n",
    "        custom_lu_decomposition_iter(L, U, i, i, n, n)\n",
    "        return\n",
    "\n",
    "    P_local, a, b, g = separate_permutation(U[i:(i+n), i:(i+n)])  # Получаем перестановку для блок-стрелочной формы\n",
    "    P_i = np.arange(0, U.shape[0])  # Перестановка в i-й итерации\n",
    "    P_i[i:(i+n)] = P_local + i\n",
    "    U[:] = U[P_i, :][:, P_i]  # Применяем перестановку к U (в place)\n",
    "    P[:] = P[P_i]\n",
    "\n",
    "    if max(a, b, g) == n:  # Случай бесконечной рекурсии (когда следующее деление невозможно)\n",
    "        custom_lu_decomposition_iter(L, U, i, i, n, n)\n",
    "    else:\n",
    "        recursive_partitioning(P, L, U, i, a, separate_permutation)  # (alpha, alpha)\n",
    "        custom_lu_decomposition_iter(L, U, i + a + b, i, g, a)  # LU над частью (gamma,alpha)\n",
    "        recursive_partitioning(P, L, U, i + a, b, separate_permutation)  # (beta, beta)\n",
    "        custom_lu_decomposition_iter(L, U, i + a + b, i + a, g, b)  # LU над частью (gamma,beta)\n",
    "        recursive_partitioning(P, L, U, i + a + b, g, separate_permutation)  # (gamma, gamma)\n",
    "\n",
    "def lu_decomposition(A, separate_permutation, copy=True):\n",
    "    # LU-разложение матрицы\n",
    "    P = np.arange(0, A.shape[0])  # Перестановка по умолчанию\n",
    "    L = [(i, i, 1) for i in range(0, A.shape[0])]  # Заполняем диагональ единицами\n",
    "\n",
    "    if copy:\n",
    "        U = A.copy()\n",
    "    else:\n",
    "        U = A\n",
    "\n",
    "    # Изменения P, L, U вместе\n",
    "    recursive_partitioning(P, L, U, 0, A.shape[0], separate_permutation)\n",
    "\n",
    "    P = np.argsort(P)  # Применяем транспозицию\n",
    "\n",
    "    # Создаем разреженную матрицу из списка COO\n",
    "    row = [L[i][0] for i in range(len(L))]\n",
    "    col = [L[i][1] for i in range(len(L))]\n",
    "    data = [L[i][2] for i in range(len(L))]\n",
    "    L = spsp.coo_matrix((data, (row, col)))\n",
    "\n",
    "    return P, L, U\n",
    "\n",
    "def generate_sparse_matrix(n, density=0.2):\n",
    "    # Генерация разреженной матрицы размера n x n с указанной плотностью\n",
    "    return spsp.rand(n, n, density=density, format='csr')\n",
    "\n",
    "def find_separator_permutation(mat):\n",
    "    # Находит собственный вектор Фидлера\n",
    "    Laplacian = spsp.csgraph.laplacian(mat, dtype=np.float32)\n",
    "    eigval, eigvec = spsp.linalg.eigsh(Laplacian, k=2, which=\"SM\")\n",
    "    colors = np.sign(eigvec[:, 1])\n",
    "\n",
    "    # Получаем 3 множества, где gamma - разделитель\n",
    "    if eigval[1] < 1e-8:  # Проверка на неподключенный граф\n",
    "        alpha = spsp.csgraph.depth_first_order(Laplacian, 0, return_predecessors=False)\n",
    "        beta = np.setdiff1d(np.arange(0, len(colors)), alpha)\n",
    "        gamma = np.array([])\n",
    "    else:\n",
    "        gamma = set()\n",
    "        for k in range(0, len(Laplacian.row)):\n",
    "            i = Laplacian.row[k]\n",
    "            j = Laplacian.col[k]\n",
    "            if j > i and colors[i] != colors[j]:\n",
    "                gamma.add(i)\n",
    "                gamma.add(j)\n",
    "        gamma = np.array(list(gamma))\n",
    "        beta = np.setdiff1d(np.where(colors > 0), gamma)\n",
    "        alpha = np.setdiff1d(np.where(colors < 0), gamma)\n",
    "\n",
    "    # Создаем перестановку на основе множеств\n",
    "    a, b, g = len(alpha), len(beta), len(gamma)\n",
    "    start = 0\n",
    "    P = np.zeros(len(colors), dtype=np.int32)\n",
    "    if a > 0: P[alpha] = np.arange(start, start + a)\n",
    "    start += a\n",
    "    if b > 0: P[beta] = np.arange(start, start + b)\n",
    "    start += b\n",
    "    if g > 0: P[gamma] = np.arange(start, start + g)\n",
    "    P = P.argsort()\n",
    "    return P, a, b, g\n",
    "\n",
    "# Пример использования\n",
    "if __name__ == '__main__':\n",
    "    # Генерация разреженной матрицы\n",
    "    n = 1000\n",
    "    density = 0.9\n",
    "    A = generate_sparse_matrix(n, density)\n",
    "    \n",
    "    # Получение LU-разложения\n",
    "    start_time = time.time()\n",
    "    P, L, U = lu_decomposition(A, find_separator_permutation)\n",
    "    end_time = time.time()\n",
    "    print(\"Время разложения [с] =\", end_time - start_time)\n",
    "    \n",
    "    # Проверка точности разложения\n",
    "    LU = L.dot(U)\n",
    "    norm_A = spsp.linalg.norm(A, ord='fro')\n",
    "    norm_LU = spsp.linalg.norm(LU, ord='fro')\n",
    "    norm_diff = spsp.linalg.norm(LU - A, ord='fro')\n",
    "\n",
    "    print(\"Norm(A):\", norm_A)\n",
    "    print(\"Norm(LU):\", norm_LU)\n",
    "    print(\"Norm(P(LU)P - A):\", norm_diff)\n",
    "\n",
    "    # Визуализация разреженных матриц\n",
    "    data = [A, LU, L, U]\n",
    "    fig, axs = plt.subplots(1, len(data))\n",
    "    for i in range(len(data)):\n",
    "        axs[i].spy(data[i], aspect='equal', marker='.', markersize=2, precision=1e-5)\n",
    "    plt.show()"
   ]
  },
  {
   "cell_type": "code",
   "execution_count": 143,
   "metadata": {},
   "outputs": [
    {
     "name": "stdout",
     "output_type": "stream",
     "text": [
      "CPU times: user 3.9 s, sys: 59.8 ms, total: 3.96 s\n",
      "Wall time: 4.25 s\n"
     ]
    }
   ],
   "source": [
    "%%time\n",
    "P, L, U = lu_decomposition(A, find_separator_permutation)"
   ]
  },
  {
   "cell_type": "code",
   "execution_count": 152,
   "metadata": {
    "scrolled": true
   },
   "outputs": [
    {
     "name": "stdout",
     "output_type": "stream",
     "text": [
      "CPU times: user 821 ms, sys: 106 ms, total: 926 ms\n",
      "Wall time: 942 ms\n"
     ]
    },
    {
     "data": {
      "text/plain": [
       "(array([[0., 0., 0., ..., 0., 0., 0.],\n",
       "        [0., 0., 0., ..., 0., 0., 0.],\n",
       "        [0., 0., 0., ..., 0., 0., 0.],\n",
       "        ...,\n",
       "        [0., 0., 0., ..., 0., 0., 0.],\n",
       "        [0., 0., 0., ..., 0., 0., 0.],\n",
       "        [0., 0., 0., ..., 0., 0., 0.]]),\n",
       " array([[ 1.        ,  0.        ,  0.        , ...,  0.        ,\n",
       "          0.        ,  0.        ],\n",
       "        [ 0.        ,  1.        ,  0.        , ...,  0.        ,\n",
       "          0.        ,  0.        ],\n",
       "        [ 0.99277936, -0.85059862,  1.        , ...,  0.        ,\n",
       "          0.        ,  0.        ],\n",
       "        ...,\n",
       "        [ 0.90970351,  0.04428585, -0.01793512, ...,  1.        ,\n",
       "          0.        ,  0.        ],\n",
       "        [ 0.73960683, -0.27439303,  0.41972144, ..., -0.12957754,\n",
       "          1.        ,  0.        ],\n",
       "        [ 0.62067006,  0.26239085,  0.3966598 , ..., -0.34958563,\n",
       "         -0.02892685,  1.        ]]),\n",
       " array([[ 0.99962389,  0.95868826,  0.10765722, ...,  0.06838417,\n",
       "          0.88745744,  0.65796604],\n",
       "        [ 0.        ,  0.99922646,  0.13109897, ...,  0.        ,\n",
       "          0.        ,  0.5316942 ],\n",
       "        [ 0.        ,  0.        ,  0.99361848, ...,  0.43891591,\n",
       "         -0.53141498, -0.20095674],\n",
       "        ...,\n",
       "        [ 0.        ,  0.        ,  0.        , ...,  6.38461557,\n",
       "         -1.45258375,  1.33137824],\n",
       "        [ 0.        ,  0.        ,  0.        , ...,  0.        ,\n",
       "          5.85483233,  2.260945  ],\n",
       "        [ 0.        ,  0.        ,  0.        , ...,  0.        ,\n",
       "          0.        , -7.27941463]]))"
      ]
     },
     "execution_count": 152,
     "metadata": {},
     "output_type": "execute_result"
    }
   ],
   "source": [
    "%%time\n",
    "partial_pivoting_lu(A.todense())"
   ]
  },
  {
   "cell_type": "markdown",
   "metadata": {},
   "source": [
    "# Сравним библиотечные реализации"
   ]
  },
  {
   "cell_type": "code",
   "execution_count": null,
   "metadata": {},
   "outputs": [
    {
     "name": "stderr",
     "output_type": "stream",
     "text": [
      "  0%|          | 0/9 [00:00<?, ?it/s]\n",
      "  0%|          | 0/3 [00:00<?, ?it/s]\u001b[A"
     ]
    }
   ],
   "source": [
    "import numpy as np\n",
    "import scipy.sparse as spsp\n",
    "from scipy.sparse.linalg import splu, spilu\n",
    "from scipy.linalg import lu\n",
    "import timeit\n",
    "from tqdm import tqdm\n",
    "import matplotlib.pyplot as plt\n",
    "\n",
    "def generate_sparse_matrix(n, density=0.2):\n",
    "    return spsp.rand(n, n, density=density, format='csr')\n",
    "\n",
    "def measure_time_and_accuracy(matrix_size, density):\n",
    "    # Генерация разреженной матрицы\n",
    "    A = generate_sparse_matrix(matrix_size, density)\n",
    "\n",
    "    # LU-разложение с использованием различных методов\n",
    "    lu_time = timeit.timeit(lambda: lu(A.todense()), number=1)\n",
    "    splu_time = timeit.timeit(lambda: splu(A), number=1)\n",
    "    spilu_time = timeit.timeit(lambda: spilu(A), number=1)\n",
    "\n",
    "    # Расчет точности LU-разложения\n",
    "    P, L, U = lu(A.todense())\n",
    "    LU = L.dot(U)\n",
    "    \n",
    "    lu_norm_diff = np.linalg.norm(LU - A.todense(), ord='fro')\n",
    "    \n",
    "    B = splu(A)\n",
    "    L = csr_matrix.todense(B.L)\n",
    "    U = csr_matrix.todense(B.U)\n",
    "    LU = L.dot(U)\n",
    "    \n",
    "    splu_norm_diff = np.linalg.norm(LU - A, ord='fro')\n",
    "    \n",
    "    B = spilu(A)\n",
    "    L = csr_matrix.todense(B.L)\n",
    "    U = csr_matrix.todense(B.U)\n",
    "    LU = L.dot(U)\n",
    "    \n",
    "    spilu_norm_diff = np.linalg.norm(LU - A, ord='fro')\n",
    "    \n",
    "    return lu_time, splu_time, spilu_time, lu_norm_diff, splu_norm_diff, spilu_norm_diff\n",
    "\n",
    "def plot_results(matrix_sizes, densities):\n",
    "    lu_times = []\n",
    "    splu_times = []\n",
    "    spilu_times = []\n",
    "    lu_accuracy_diffs = []\n",
    "    splu_accuracy_diffs = []\n",
    "    spilu_accuracy_diffs = []\n",
    "\n",
    "    for size in tqdm(matrix_sizes):\n",
    "        for density in tqdm(densities):\n",
    "            lu_time, splu_time, spilu_time, lu_norm_diff, splu_norm_diff, spilu_norm_diff = measure_time_and_accuracy(size, \n",
    "                                                                                                                      density)\n",
    "\n",
    "            lu_times.append(lu_time)\n",
    "            splu_times.append(splu_time)\n",
    "            spilu_times.append(spilu_time)\n",
    "            \n",
    "            lu_accuracy_diffs.append(lu_norm_diff)\n",
    "            splu_accuracy_diffs.append(splu_norm_diff)\n",
    "            spilu_accuracy_diffs.append(spilu_norm_diff)\n",
    "\n",
    "    # Построение графиков\n",
    "    plt.figure(figsize=(12, 8))\n",
    "\n",
    "    plt.subplot(2, 2, 1)\n",
    "    plt.plot(lu_times, label='lu')\n",
    "    plt.plot(splu_times, label='splu')\n",
    "    plt.plot(spilu_times, label='spilu')\n",
    "    plt.title('Execution Time Comparison')\n",
    "    plt.xlabel('Configuration Index')\n",
    "    plt.ylabel('Time (seconds)')\n",
    "    plt.legend()\n",
    "\n",
    "    plt.subplot(2, 2, 2)\n",
    "    plt.plot(lu_accuracy_diffs, label='lu')\n",
    "    plt.plot(splu_accuracy_diffs, label='splu')\n",
    "    plt.plot(spilu_accuracy_diffs, label='spilu')\n",
    "    plt.title('LU Decomposition Accuracy')\n",
    "    plt.xlabel('Configuration Index')\n",
    "    plt.ylabel('Norm Difference')\n",
    "    \n",
    "    plt.tight_layout()\n",
    "    plt.show()\n",
    "\n",
    "# Размеры и разреженности матриц\n",
    "matrix_sizes = range(10000, 100000, 10000)\n",
    "densities = [0.001, 0.01, 0.1]\n",
    "\n",
    "# Построение и отображение результатов\n",
    "plot_results(matrix_sizes, densities)"
   ]
  },
  {
   "cell_type": "code",
   "execution_count": 155,
   "metadata": {},
   "outputs": [
    {
     "data": {
      "text/plain": [
       "<SuperLU at 0x7f8cd9b875d0>"
      ]
     },
     "execution_count": 155,
     "metadata": {},
     "output_type": "execute_result"
    }
   ],
   "source": [
    "splu(A)"
   ]
  },
  {
   "cell_type": "code",
   "execution_count": null,
   "metadata": {},
   "outputs": [],
   "source": []
  }
 ],
 "metadata": {
  "kernelspec": {
   "display_name": "Python 3",
   "language": "python",
   "name": "python3"
  },
  "language_info": {
   "codemirror_mode": {
    "name": "ipython",
    "version": 3
   },
   "file_extension": ".py",
   "mimetype": "text/x-python",
   "name": "python",
   "nbconvert_exporter": "python",
   "pygments_lexer": "ipython3",
   "version": "3.8.5"
  }
 },
 "nbformat": 4,
 "nbformat_minor": 4
}
